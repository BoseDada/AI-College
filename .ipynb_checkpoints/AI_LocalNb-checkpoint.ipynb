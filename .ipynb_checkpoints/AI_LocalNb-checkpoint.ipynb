{
 "cells": [
  {
   "cell_type": "markdown",
   "id": "0c33a1ec",
   "metadata": {},
   "source": [
    "# Water-Jug Problem"
   ]
  },
  {
   "cell_type": "code",
   "execution_count": 1,
   "id": "6ad2c5ed",
   "metadata": {},
   "outputs": [
    {
     "name": "stdout",
     "output_type": "stream",
     "text": [
      "Enter amount for first jug = 4\n",
      "Enter amount for second jug = 3\n",
      "Water level in X(gallons) =  4\n",
      "Water level in Y(gallons) =  0\n",
      "\n",
      "\n",
      "Water level in X(gallons) =  1\n",
      "Water level in Y(gallons) =  3\n",
      "\n",
      "\n",
      "Water level in X(gallons) =  1\n",
      "Water level in Y(gallons) =  0\n",
      "\n",
      "\n",
      "Water level in X(gallons) =  0\n",
      "Water level in Y(gallons) =  1\n",
      "\n",
      "\n",
      "Water level in X(gallons) =  4\n",
      "Water level in Y(gallons) =  1\n",
      "\n",
      "\n",
      "Water level in X(gallons) =  2\n",
      "Water level in Y(gallons) =  3\n",
      "\n",
      "\n",
      "Water level in X(gallons) =  2\n",
      "Water level in Y(gallons) =  0\n"
     ]
    }
   ],
   "source": [
    "global wateramt1,wateramt2\n",
    "wateramt1 = int(input(\"Enter amount for first jug = \"))\n",
    "wateramt2 = int(input(\"Enter amount for second jug = \"))\n",
    "global x #4-gallon jug\n",
    "global y  #3-gallon jug\n",
    "x = 0\n",
    "y = 0\n",
    "def fill_4G():\n",
    "    global wateramt1,wateramt2,x,y\n",
    "    x = wateramt1\n",
    "    print(\"Water level in X(gallons) = \",x)\n",
    "    print(\"Water level in Y(gallons) = \",y)\n",
    "def fill_3G():\n",
    "    global wateramt1,wateramt2,x,y\n",
    "    y = wateramt2\n",
    "    print(\"Water level in X(gallons) = \",x)\n",
    "    print(\"Water level in Y(gallons) = \",y)\n",
    "def empty_4G():\n",
    "    global wateramt1,wateramt2,x,y\n",
    "    x = 0\n",
    "    print(\"Water level in X(gallons) = \",x)\n",
    "    print(\"Water level in Y(gallons) = \",y)\n",
    "def empty_3G():\n",
    "    global wateramt1,wateramt2,x,y\n",
    "    y = 0\n",
    "    print(\"Water level in X(gallons) = \",x)\n",
    "    print(\"Water level in Y(gallons) = \",y)\n",
    "def transfer_4to3():\n",
    "    global wateramt1,wateramt2,x,y\n",
    "    if (y == 0 and x >= wateramt2):\n",
    "        y = wateramt2\n",
    "        x = x - wateramt2\n",
    "    elif (y == 0 and x < wateramt2):\n",
    "        y = x\n",
    "        x = 0\n",
    "    elif (y > 0 and y < wateramt2 and (wateramt2-y)<x): \n",
    "        x = x-(wateramt2-y)\n",
    "        y = y+(wateramt2-y)\n",
    "    elif (y > 0 and y < wateramt2 and (wateramt2-y)>x):\n",
    "        y = y + x\n",
    "        x = 0\n",
    "    print(\"\\n\")\n",
    "    print(\"Water level in X(gallons) = \",x)\n",
    "    print(\"Water level in Y(gallons) = \",y)\n",
    "    print(\"\\n\")\n",
    "def transfer_3to4():\n",
    "    global wateramt1,wateramt2,x,y\n",
    "    if (x == 0 and y == wateramt2):\n",
    "        x = wateramt2\n",
    "        y = 0\n",
    "    elif (x == 0 and y < wateramt2):\n",
    "        x = y\n",
    "        y = 0\n",
    "    elif (x > 0 and x + y <= wateramt1):\n",
    "        x = x+y\n",
    "        y = 0\n",
    "    elif (x > 0 and x + y > wateramt1):\n",
    "        y = y - (wateramt1-x)\n",
    "        x = wateramt1\n",
    "    print(\"\\n\")\n",
    "    print(\"Water level in X(gallons) = \",x)\n",
    "    print(\"Water level in Y(gallons) = \",y)\n",
    "    print(\"\\n\")\n",
    "\n",
    "while (x != 2):\n",
    "    if (x == 0):\n",
    "        fill_4G()\n",
    "    if (y == wateramt2):\n",
    "        empty_3G()\n",
    "    transfer_4to3()\n",
    "empty_3G()\n"
   ]
  },
  {
   "cell_type": "markdown",
   "id": "0212508d",
   "metadata": {},
   "source": [
    "# Recursive-Maze Problem"
   ]
  },
  {
   "cell_type": "code",
   "execution_count": 65,
   "id": "2d0195ce",
   "metadata": {},
   "outputs": [
    {
     "name": "stdout",
     "output_type": "stream",
     "text": [
      "1 1 0 1 1 1 0 1 \n",
      "1 1 1 0 1 1 0 1 \n",
      "0 1 1 0 0 0 1 1 \n",
      "1 0 1 1 1 0 1 0 \n",
      "1 1 1 0 1 1 1 0 \n",
      "1 1 0 1 0 1 0 1 \n",
      "0 1 0 1 0 1 1 0 \n",
      "1 0 1 1 1 0 1 1 \n"
     ]
    }
   ],
   "source": [
    "maze = [[1,1,0,1,1,1,0,1],\n",
    "        [1,1,1,0,1,1,0,1],\n",
    "        [0,1,1,0,0,0,1,1],\n",
    "        [1,0,1,1,1,0,1,0],\n",
    "        [1,1,1,0,1,1,1,0],\n",
    "        [1,1,0,1,0,1,0,1],\n",
    "        [0,1,0,1,0,1,1,0],\n",
    "        [1,0,1,1,1,0,1,1]]\n",
    "\n",
    "for i in maze:\n",
    "    for j in i:\n",
    "        print(j, end = ' ')\n",
    "    print()"
   ]
  },
  {
   "cell_type": "code",
   "execution_count": 66,
   "id": "3d5bf122",
   "metadata": {},
   "outputs": [],
   "source": [
    "start = (0,0)\n",
    "end = (7,7)"
   ]
  },
  {
   "cell_type": "code",
   "execution_count": 67,
   "id": "ad471012",
   "metadata": {},
   "outputs": [],
   "source": [
    "def solve_maze(maze, start, end):\n",
    "    visited = [[False for i in range(8)] for i in range(8)]\n",
    "    solution = []\n",
    "    def is_valid_move(x, y):\n",
    "        return 0 <= x < 8 and 0 <= y < 8 and maze[x][y] == 1 and not visited[x][y]\n",
    "\n",
    "    def dfs(x, y):\n",
    "        if x == end[0] and y == end[1]:\n",
    "            solution.append((x, y))\n",
    "            return True\n",
    "\n",
    "        visited[x][y] = True\n",
    "        solution.append((x, y))\n",
    "\n",
    "        # Explore all possible moves: right, down, left, up\n",
    "        moves = [(0, 1), (1, 0), (0, -1), (-1, 0)]\n",
    "\n",
    "        for move in moves:\n",
    "            next_x, next_y = x + move[0], y + move[1]\n",
    "            if is_valid_move(next_x, next_y) and dfs(next_x, next_y):\n",
    "                return True\n",
    "\n",
    "        # Backtrack if no valid move leads to the end\n",
    "        solution.pop()\n",
    "        return False\n",
    "\n",
    "    if dfs(start[0], start[1]):\n",
    "        print(\"Solution found:\")\n",
    "        for step in solution:\n",
    "            print(step, end = \" \")\n",
    "            maze[step[0]][step[1]] = \"*\"\n",
    "    else:\n",
    "        print(\"No solution found.\")"
   ]
  },
  {
   "cell_type": "code",
   "execution_count": 68,
   "id": "c3972daa",
   "metadata": {},
   "outputs": [
    {
     "name": "stdout",
     "output_type": "stream",
     "text": [
      "Solution found:\n",
      "(0, 0) (0, 1) (1, 1) (1, 2) (2, 2) (3, 2) (3, 3) (3, 4) (4, 4) (4, 5) (5, 5) (6, 5) (6, 6) (7, 6) (7, 7) "
     ]
    }
   ],
   "source": [
    "solve_maze(maze,start,end)"
   ]
  },
  {
   "cell_type": "code",
   "execution_count": 69,
   "id": "1cee312f",
   "metadata": {},
   "outputs": [
    {
     "name": "stdout",
     "output_type": "stream",
     "text": [
      "* * 0 1 1 1 0 1 \n",
      "1 * * 0 1 1 0 1 \n",
      "0 1 * 0 0 0 1 1 \n",
      "1 0 * * * 0 1 0 \n",
      "1 1 1 0 * * 1 0 \n",
      "1 1 0 1 0 * 0 1 \n",
      "0 1 0 1 0 * * 0 \n",
      "1 0 1 1 1 0 * * \n"
     ]
    }
   ],
   "source": [
    "for i in maze:\n",
    "    for j in i:\n",
    "        print(j, end = \" \")\n",
    "    print()"
   ]
  },
  {
   "cell_type": "markdown",
   "id": "ddcafb2c",
   "metadata": {},
   "source": [
    "# Number Guesser"
   ]
  },
  {
   "cell_type": "code",
   "execution_count": 71,
   "id": "4e92494f",
   "metadata": {},
   "outputs": [
    {
     "name": "stdout",
     "output_type": "stream",
     "text": [
      "Welcome to the Number Guesser Game!\n",
      "I have selected a number between 1 and 100. Can you guess it?\n",
      "Enter your guess: 30\n",
      "Too high! Try again.\n",
      "Enter your guess: 20\n",
      "Too high! Try again.\n",
      "Enter your guess: 10\n",
      "Too high! Try again.\n",
      "Enter your guess: 4\n",
      "Too low! Try again.\n",
      "Enter your guess: 7\n",
      "Too low! Try again.\n",
      "Enter your guess: 9\n",
      "Too high! Try again.\n",
      "Enter your guess: 8\n",
      "Congratulations! You guessed the number 8 in 7 attempts.\n"
     ]
    }
   ],
   "source": [
    "import random\n",
    "\n",
    "def number_guesser():\n",
    "    print(\"Welcome to the Number Guesser Game!\")\n",
    "    print(\"I have selected a number between 1 and 100. Can you guess it?\")\n",
    "\n",
    "    secret_number = random.randint(1, 100)\n",
    "\n",
    "    attempts = 0\n",
    "    while True:\n",
    "        guess = int(input(\"Enter your guess: \"))\n",
    "        attempts += 1\n",
    "\n",
    "        if guess == secret_number:\n",
    "            print(f\"Congratulations! You guessed the number {secret_number} in {attempts} attempts.\")\n",
    "            break\n",
    "        elif guess < secret_number:\n",
    "            print(\"Too low! Try again.\")\n",
    "        else:\n",
    "            print(\"Too high! Try again.\")\n",
    "\n",
    "number_guesser()"
   ]
  },
  {
   "cell_type": "markdown",
   "id": "72ec17cb",
   "metadata": {},
   "source": [
    "# 8 Puzzle using Best First Search"
   ]
  },
  {
   "cell_type": "code",
   "execution_count": 1,
   "id": "9bd25b4b",
   "metadata": {},
   "outputs": [],
   "source": [
    "import heapq\n",
    "\n",
    "class PuzzleNode:\n",
    "    def __init__(self, puzzle_state, parent=None, move=None):\n",
    "        self.puzzle_state = puzzle_state\n",
    "        self.parent = parent\n",
    "        self.move = move\n",
    "        self.cost = self.calculate_cost()\n",
    "\n",
    "    def calculate_cost(self):\n",
    "        goal_state = [[1, 2, 3], [4, 5, 6], [7, 8, 0]]\n",
    "        cost = 0\n",
    "        for i in range(3):\n",
    "            for j in range(3):\n",
    "                if self.puzzle_state[i][j] != 0:\n",
    "                    row, col = divmod(self.puzzle_state[i][j] - 1, 3)\n",
    "                    cost += abs(row - i) + abs(col - j)\n",
    "        return cost\n",
    "\n",
    "    def __lt__(self, other):\n",
    "        return self.cost < other.cost\n",
    "\n",
    "def get_neighbors(node):\n",
    "    neighbors = []\n",
    "    directions = [(0, 1), (1, 0), (0, -1), (-1, 0)]\n",
    "    for i in range(3):\n",
    "        for j in range(3):\n",
    "            if node.puzzle_state[i][j] == 0:\n",
    "                zero_row, zero_col = i, j\n",
    "                break\n",
    "\n",
    "    for direction in directions:\n",
    "        new_row, new_col = zero_row + direction[0], zero_col + direction[1]\n",
    "        if 0 <= new_row < 3 and 0 <= new_col < 3:\n",
    "            new_state = [row[:] for row in node.puzzle_state]\n",
    "            new_state[zero_row][zero_col], new_state[new_row][new_col] = new_state[new_row][new_col], new_state[zero_row][zero_col]\n",
    "            neighbors.append(PuzzleNode(new_state, node, direction))\n",
    "    return neighbors\n",
    "\n",
    "def reconstruct_path(node):\n",
    "    path = []\n",
    "    while node:\n",
    "        path.append(node.puzzle_state)\n",
    "        node = node.parent\n",
    "    return path[::-1]\n",
    "\n",
    "def best_first_search(initial_state):\n",
    "    heap = []\n",
    "    visited_states = set()\n",
    "    heapq.heappush(heap, initial_state)\n",
    "\n",
    "    while heap:\n",
    "        current_node = heapq.heappop(heap)\n",
    "        visited_states.add(tuple(map(tuple, current_node.puzzle_state)))\n",
    "\n",
    "        if current_node.puzzle_state == [[1, 2, 3], [4, 5, 6], [7, 8, 0]]:\n",
    "            return reconstruct_path(current_node)\n",
    "\n",
    "        for neighbor in get_neighbors(current_node):\n",
    "            if tuple(map(tuple, neighbor.puzzle_state)) not in visited_states:\n",
    "                heapq.heappush(heap, neighbor)\n",
    "                visited_states.add(tuple(map(tuple, neighbor.puzzle_state)))\n",
    "\n",
    "    return None"
   ]
  },
  {
   "cell_type": "code",
   "execution_count": 2,
   "id": "491c7057",
   "metadata": {},
   "outputs": [
    {
     "name": "stdout",
     "output_type": "stream",
     "text": [
      "Solution found:\n",
      "Step 1:\n",
      "[1, 2, 3]\n",
      "[4, 0, 5]\n",
      "[7, 8, 6]\n",
      "\n",
      "Step 2:\n",
      "[1, 2, 3]\n",
      "[4, 5, 0]\n",
      "[7, 8, 6]\n",
      "\n",
      "Step 3:\n",
      "[1, 2, 3]\n",
      "[4, 5, 6]\n",
      "[7, 8, 0]\n",
      "\n"
     ]
    }
   ],
   "source": [
    "initial_state = PuzzleNode([[1, 2, 3], [4, 0, 5], [7, 8, 6]])\n",
    "solution = best_first_search(initial_state)\n",
    "\n",
    "if solution:\n",
    "    print(\"Solution found:\")\n",
    "    for i, state in enumerate(solution):\n",
    "        print(f\"Step {i + 1}:\")\n",
    "        for row in state:\n",
    "            print(row)\n",
    "        print()\n",
    "else:\n",
    "    print(\"No solution found.\")"
   ]
  },
  {
   "cell_type": "markdown",
   "id": "6c8c5108",
   "metadata": {},
   "source": [
    "# 8 Puzzle using A*"
   ]
  },
  {
   "cell_type": "code",
   "execution_count": 3,
   "id": "74069bf6",
   "metadata": {},
   "outputs": [],
   "source": [
    "class PuzzleNode:\n",
    "    def __init__(self, puzzle_state, parent=None, move=None, g=0):\n",
    "        self.puzzle_state = puzzle_state\n",
    "        self.parent = parent\n",
    "        self.move = move\n",
    "        self.g = g\n",
    "        self.h = self.calculate_heuristic()\n",
    "        self.f = self.g + self.h\n",
    "\n",
    "    def calculate_heuristic(self):\n",
    "        goal_state = [[1, 2, 3], [4, 5, 6], [7, 8, 0]]\n",
    "        h = 0\n",
    "        for i in range(3):\n",
    "            for j in range(3):\n",
    "                if self.puzzle_state[i][j] != 0:\n",
    "                    row, col = divmod(self.puzzle_state[i][j] - 1, 3)\n",
    "                    h += abs(row - i) + abs(col - j)\n",
    "        return h\n",
    "\n",
    "    def __lt__(self, other):\n",
    "        return self.f < other.f\n",
    "\n",
    "    def __le__(self, other):\n",
    "        return self.f <= other.f\n",
    "\n",
    "    def __gt__(self, other):\n",
    "        return self.f > other.f\n",
    "\n",
    "    def __ge__(self, other):\n",
    "        return self.f >= other.f\n",
    "\n",
    "    def __eq__(self, other):\n",
    "        return self.f == other.f\n",
    "\n",
    "    def __ne__(self, other):\n",
    "        return self.f != other.f\n",
    "\n",
    "def get_neighbors(node):\n",
    "    neighbors = []\n",
    "    directions = [(0, 1), (1, 0), (0, -1), (-1, 0)]\n",
    "    for i in range(3):\n",
    "        for j in range(3):\n",
    "            if node.puzzle_state[i][j] == 0:\n",
    "                zero_row, zero_col = i, j\n",
    "                break\n",
    "\n",
    "    for direction in directions:\n",
    "        new_row, new_col = zero_row + direction[0], zero_col + direction[1]\n",
    "        if 0 <= new_row < 3 and 0 <= new_col < 3:\n",
    "            new_state = [row[:] for row in node.puzzle_state]\n",
    "            new_state[zero_row][zero_col], new_state[new_row][new_col] = new_state[new_row][new_col], new_state[zero_row][zero_col]\n",
    "            move = (new_row - zero_row, new_col - zero_col)\n",
    "            neighbors.append(PuzzleNode(new_state, node, move, node.g + 1))\n",
    "    return neighbors\n",
    "\n",
    "def reconstruct_path(node):\n",
    "    path = []\n",
    "    while node:\n",
    "        path.append((node.move, node.puzzle_state))\n",
    "        node = node.parent\n",
    "    return path[::-1]\n",
    "\n",
    "def a_star_search(initial_state):\n",
    "    open_list = [initial_state]\n",
    "    closed_set = set()\n",
    "\n",
    "    while open_list:\n",
    "        open_list.sort(key=lambda x: x.f)\n",
    "        current_node = open_list.pop(0)\n",
    "\n",
    "        if current_node.puzzle_state == [[1, 2, 3], [4, 5, 6], [7, 8, 0]]:\n",
    "            return reconstruct_path(current_node)\n",
    "\n",
    "        closed_set.add(tuple(map(tuple, current_node.puzzle_state)))\n",
    "\n",
    "        for neighbor in get_neighbors(current_node):\n",
    "            if tuple(map(tuple, neighbor.puzzle_state)) not in closed_set:\n",
    "                open_list.append(neighbor)\n",
    "\n",
    "    return None"
   ]
  },
  {
   "cell_type": "code",
   "execution_count": 4,
   "id": "c3a55891",
   "metadata": {},
   "outputs": [],
   "source": [
    "initial_state = PuzzleNode([[1, 2, 3], [4, 0, 5], [7, 8, 6]])\n",
    "solution = a_star_search(initial_state)"
   ]
  },
  {
   "cell_type": "code",
   "execution_count": 5,
   "id": "139e0ce7",
   "metadata": {},
   "outputs": [
    {
     "name": "stdout",
     "output_type": "stream",
     "text": [
      "Solution found:\n",
      "Step 1: Move None\n",
      "[1, 2, 3]\n",
      "[4, 0, 5]\n",
      "[7, 8, 6]\n",
      "\n",
      "Step 2: Move (0, 1)\n",
      "[1, 2, 3]\n",
      "[4, 5, 0]\n",
      "[7, 8, 6]\n",
      "\n",
      "Step 3: Move (1, 0)\n",
      "[1, 2, 3]\n",
      "[4, 5, 6]\n",
      "[7, 8, 0]\n",
      "\n"
     ]
    }
   ],
   "source": [
    "if solution:\n",
    "    print(\"Solution found:\")\n",
    "    for i, (move, state) in enumerate(solution):\n",
    "        print(f\"Step {i + 1}: Move {move}\")\n",
    "        for row in state:\n",
    "            print(row)\n",
    "        print()\n",
    "else:\n",
    "    print(\"No solution found\")"
   ]
  },
  {
   "cell_type": "markdown",
   "id": "536a42e3",
   "metadata": {},
   "source": [
    "# Crypt-Arithmetic Problem"
   ]
  },
  {
   "cell_type": "code",
   "execution_count": 2,
   "id": "5ba8af5a",
   "metadata": {},
   "outputs": [
    {
     "name": "stdout",
     "output_type": "stream",
     "text": [
      "2461 + 2455 = 4916 (mapping: {'g': 0, 'l': 5, 'm': 9, 'a': 4, 'e': 1, 'b': 2, 's': 6})\n",
      "2483 + 2455 = 4938 (mapping: {'g': 0, 'l': 5, 'm': 9, 'a': 4, 'e': 3, 'b': 2, 's': 8})\n",
      "7483 + 7455 = 14938 (mapping: {'g': 1, 'l': 5, 'm': 9, 'a': 4, 'e': 3, 'b': 7, 's': 8})\n"
     ]
    }
   ],
   "source": [
    "import itertools\n",
    "\n",
    "def get_value(word, substitution):\n",
    "    s = 0\n",
    "    factor = 1\n",
    "    for letter in reversed(word):\n",
    "        s += factor * substitution[letter]\n",
    "        factor *= 10\n",
    "    return s\n",
    "\n",
    "def solve2(equation):\n",
    "    left, right = equation.lower().replace(' ', '').split('=')\n",
    "    left = left.split('+')\n",
    "    letters = set(right)\n",
    "    for word in left:\n",
    "        for letter in word:\n",
    "            letters.add(letter)\n",
    "    letters = list(letters)\n",
    "\n",
    "    digits = range(10)\n",
    "    for perm in itertools.permutations(digits, len(letters)):\n",
    "        sol = dict(zip(letters, perm))\n",
    "\n",
    "        if sum(get_value(word, sol) for word in left) == get_value(right, sol):\n",
    "            print(' + '.join(str(get_value(word, sol)) for word in left) + \" = {} (mapping: {})\".format(get_value(right, sol), sol))\n",
    "\n",
    "if __name__ == '__main__':\n",
    "    solve2('BASE + BALL = GAMES')"
   ]
  },
  {
   "cell_type": "markdown",
   "id": "febe5352",
   "metadata": {},
   "source": [
    "# Graph Colouring"
   ]
  },
  {
   "cell_type": "code",
   "execution_count": 7,
   "id": "b34ce986",
   "metadata": {},
   "outputs": [
    {
     "name": "stdout",
     "output_type": "stream",
     "text": [
      "Vertex \t Color\n",
      "0 \t 0\n",
      "1 \t 1\n",
      "2 \t 0\n",
      "3 \t 1\n",
      "4 \t 0\n",
      "5 \t 2\n"
     ]
    }
   ],
   "source": [
    "class Graph:\n",
    "    def __init__(self, vertices):\n",
    "        self.vertices = vertices\n",
    "        self.graph = [[0] * vertices for _ in range(vertices)]\n",
    "\n",
    "    def add_edge(self, u, v):\n",
    "        self.graph[u][v] = 1\n",
    "        self.graph[v][u] = 1\n",
    "\n",
    "    def greedy_coloring(self):\n",
    "        result = [-1] * self.vertices\n",
    "        result[0] = 0\n",
    "\n",
    "        def is_safe(v, c):\n",
    "            for i in range(self.vertices):\n",
    "                if self.graph[v][i] == 1 and result[i] == c:\n",
    "                    return False\n",
    "            return True\n",
    "\n",
    "        for v in range(1, self.vertices):\n",
    "            for c in range(self.vertices):\n",
    "                if is_safe(v, c):\n",
    "                    result[v] = c\n",
    "                    break\n",
    "\n",
    "        return result\n",
    "\n",
    "if __name__ == \"__main__\":\n",
    "    g = Graph(6)\n",
    "    g.add_edge(0, 1)\n",
    "    g.add_edge(1, 4)\n",
    "    g.add_edge(2, 5)\n",
    "    g.add_edge(3, 2)\n",
    "    g.add_edge(4, 5)\n",
    "    g.add_edge(5, 3)\n",
    "\n",
    "    colors = g.greedy_coloring()\n",
    "    print(\"Vertex \\t Color\")\n",
    "    for i in range(len(colors)):\n",
    "        print(f\"{i} \\t {colors[i]}\")"
   ]
  },
  {
   "cell_type": "markdown",
   "id": "4b970523",
   "metadata": {},
   "source": [
    "# Min-Max Algorithm"
   ]
  },
  {
   "cell_type": "code",
   "execution_count": 8,
   "id": "e8d3cdc4",
   "metadata": {},
   "outputs": [
    {
     "name": "stdout",
     "output_type": "stream",
     "text": [
      "Best value: 5\n"
     ]
    }
   ],
   "source": [
    "def max_min(depth, node_index, maximizing_player, values, alpha, beta):\n",
    "    if depth == 0:\n",
    "        return values[node_index]\n",
    "\n",
    "    if maximizing_player:\n",
    "        best_value = -float(\"inf\")\n",
    "        for i in range(0, 2):\n",
    "            child_value = max_min(depth - 1, 2 * node_index + i, False, values, alpha, beta)\n",
    "            best_value = max(best_value, child_value)\n",
    "            alpha = max(alpha, best_value)\n",
    "            if beta <= alpha:\n",
    "                break\n",
    "        return best_value\n",
    "    else:\n",
    "        best_value = float(\"inf\")\n",
    "        for i in range(0, 2):\n",
    "            child_value = max_min(depth - 1, 2 * node_index + i, True, values, alpha, beta)\n",
    "            best_value = min(best_value, child_value)\n",
    "            beta = min(beta, best_value)\n",
    "            if beta <= alpha:\n",
    "                break\n",
    "        return best_value\n",
    "\n",
    "# Example usage\n",
    "values = [3, 5, 6, 9, 1, 2, 0, -1]\n",
    "best_value = max_min(3, 0, True, values, -float(\"inf\"), float(\"inf\"))\n",
    "print(\"Best value:\", best_value)\n"
   ]
  },
  {
   "cell_type": "markdown",
   "id": "40a0acc6",
   "metadata": {},
   "source": [
    "# Fractional Knapsack using Greedy Approach"
   ]
  },
  {
   "cell_type": "code",
   "execution_count": 9,
   "id": "37d50bfe",
   "metadata": {},
   "outputs": [],
   "source": [
    "class Item:\n",
    "    def __init__(self, weight, value):\n",
    "        self.weight = weight\n",
    "        self.value = value\n",
    "        self.cost = value / weight\n",
    "\n",
    "def fractional_knapsack(items, capacity):\n",
    "    items.sort(key=lambda x: x.cost, reverse=True)\n",
    "\n",
    "    total_value = 0\n",
    "    knapsack = []\n",
    "\n",
    "    for item in items:\n",
    "        if capacity >= item.weight:\n",
    "            knapsack.append((item.weight, item.value))\n",
    "            total_value += item.value\n",
    "            capacity -= item.weight\n",
    "        else:\n",
    "            fraction = capacity / item.weight\n",
    "            knapsack.append((capacity, fraction * item.value))\n",
    "            total_value += fraction * item.value\n",
    "            break\n",
    "\n",
    "    return total_value, knapsack"
   ]
  },
  {
   "cell_type": "code",
   "execution_count": 10,
   "id": "22986e7c",
   "metadata": {},
   "outputs": [],
   "source": [
    "items = [Item(10, 60), Item(20, 100), Item(30, 120)]\n",
    "capacity = 50\n",
    "max_value, knapsack = fractional_knapsack(items, capacity)"
   ]
  },
  {
   "cell_type": "code",
   "execution_count": 11,
   "id": "7cd6ccf9",
   "metadata": {},
   "outputs": [
    {
     "name": "stdout",
     "output_type": "stream",
     "text": [
      "Maximum value: 240.0\n",
      "Items selected:\n",
      "Weight: 10 Value: 60\n",
      "Weight: 20 Value: 100\n",
      "Weight: 20 Value: 80.0\n"
     ]
    }
   ],
   "source": [
    "print(\"Maximum value:\", max_value)\n",
    "print(\"Items selected:\")\n",
    "for weight, value in knapsack:\n",
    "    print(\"Weight:\", weight, \"Value:\", value)"
   ]
  },
  {
   "cell_type": "markdown",
   "id": "9618a9a2",
   "metadata": {},
   "source": [
    "# 0/1 Knapsack using Dynamic Programming"
   ]
  },
  {
   "cell_type": "code",
   "execution_count": 12,
   "id": "7a823910",
   "metadata": {},
   "outputs": [],
   "source": [
    "def knapsack(weights, values, capacity):\n",
    "    n = len(weights)\n",
    "    dp = [[0] * (capacity + 1) for _ in range(n + 1)]\n",
    "\n",
    "    for i in range(1, n + 1):\n",
    "        for w in range(1, capacity + 1):\n",
    "            if weights[i - 1] <= w:\n",
    "                dp[i][w] = max(dp[i - 1][w], values[i - 1] + dp[i - 1][w - weights[i - 1]])\n",
    "            else:\n",
    "                dp[i][w] = dp[i - 1][w]\n",
    "\n",
    "    selected_items = []\n",
    "    w = capacity\n",
    "    for i in range(n, 0, -1):\n",
    "        if dp[i][w] != dp[i - 1][w]:\n",
    "            selected_items.append(i - 1)\n",
    "            w -= weights[i - 1]\n",
    "\n",
    "    return dp[n][capacity], selected_items"
   ]
  },
  {
   "cell_type": "code",
   "execution_count": 13,
   "id": "757afc6e",
   "metadata": {},
   "outputs": [],
   "source": [
    "weights = [10, 20, 30]\n",
    "values = [60, 100, 120]\n",
    "capacity = 50\n",
    "max_value, selected_items = knapsack(weights, values, capacity)"
   ]
  },
  {
   "cell_type": "code",
   "execution_count": 14,
   "id": "4c2f622a",
   "metadata": {},
   "outputs": [
    {
     "name": "stdout",
     "output_type": "stream",
     "text": [
      "Maximum value: 220\n",
      "Selected items: [2, 1]\n"
     ]
    }
   ],
   "source": [
    "print(\"Maximum value:\", max_value)\n",
    "print(\"Selected items:\", selected_items)"
   ]
  },
  {
   "cell_type": "markdown",
   "id": "790cae76",
   "metadata": {},
   "source": [
    "# Tic Tac Toe using min-max"
   ]
  },
  {
   "cell_type": "code",
   "execution_count": 15,
   "id": "a74e65de",
   "metadata": {},
   "outputs": [
    {
     "name": "stdout",
     "output_type": "stream",
     "text": [
      " | | \n",
      "-----\n",
      " | | \n",
      "-----\n",
      " | | \n",
      "-----\n",
      "Enter row: 1\n",
      "Enter column: 1\n",
      "O| | \n",
      "-----\n",
      " |X| \n",
      "-----\n",
      " | | \n",
      "-----\n",
      "Enter row: 2\n",
      "Enter column: 0\n",
      "O| |O\n",
      "-----\n",
      " |X| \n",
      "-----\n",
      "X| | \n",
      "-----\n",
      "Enter row: 0\n",
      "Enter column: 1\n",
      "O|X|O\n",
      "-----\n",
      "O|X| \n",
      "-----\n",
      "X| | \n",
      "-----\n",
      "Enter row: 2\n",
      "Enter column: 1\n",
      "O|X|O\n",
      "-----\n",
      "O|X| \n",
      "-----\n",
      "X|X| \n",
      "-----\n",
      "You win!\n"
     ]
    }
   ],
   "source": [
    "import math\n",
    "\n",
    "# Represents the Tic-Tac-Toe board\n",
    "class Board:\n",
    "    def __init__(self):\n",
    "        self.board = [[' ' for _ in range(3)] for _ in range(3)]\n",
    "\n",
    "    # Prints the board\n",
    "    def print_board(self):\n",
    "        for row in self.board:\n",
    "            print(\"|\".join(row))\n",
    "            print(\"-\" * 5)\n",
    "\n",
    "    # Checks if the game is over\n",
    "    def game_over(self):\n",
    "        for row in self.board:\n",
    "            if row.count('X') == 3 or row.count('O') == 3:\n",
    "                return True\n",
    "        for col in range(3):\n",
    "            if self.board[0][col] == self.board[1][col] == self.board[2][col] and self.board[0][col] != ' ':\n",
    "                return True\n",
    "        if self.board[0][0] == self.board[1][1] == self.board[2][2] and self.board[0][0] != ' ':\n",
    "            return True\n",
    "        if self.board[0][2] == self.board[1][1] == self.board[2][0] and self.board[0][2] != ' ':\n",
    "            return True\n",
    "        return False\n",
    "\n",
    "    # Gets empty cells on the board\n",
    "    def get_empty_cells(self):\n",
    "        return [(i, j) for i in range(3) for j in range(3) if self.board[i][j] == ' ']\n",
    "\n",
    "    # Makes a move on the board\n",
    "    def make_move(self, row, col, player):\n",
    "        self.board[row][col] = player\n",
    "\n",
    "    # Undo the move on the board\n",
    "    def undo_move(self, row, col):\n",
    "        self.board[row][col] = ' '\n",
    "\n",
    "# Minimax algorithm with alpha-beta pruning\n",
    "def minimax(board, depth, is_maximizing_player, alpha, beta):\n",
    "    if board.game_over() or depth == 0:\n",
    "        if board.game_over():\n",
    "            if is_maximizing_player:\n",
    "                return -1\n",
    "            else:\n",
    "                return 1\n",
    "        else:\n",
    "            return 0\n",
    "\n",
    "    if is_maximizing_player:\n",
    "        max_eval = -math.inf\n",
    "        for row, col in board.get_empty_cells():\n",
    "            board.make_move(row, col, 'O')\n",
    "            eval = minimax(board, depth - 1, False, alpha, beta)\n",
    "            board.undo_move(row, col)\n",
    "            max_eval = max(max_eval, eval)\n",
    "            alpha = max(alpha, eval)\n",
    "            if beta <= alpha:\n",
    "                break\n",
    "        return max_eval\n",
    "    else:\n",
    "        min_eval = math.inf\n",
    "        for row, col in board.get_empty_cells():\n",
    "            board.make_move(row, col, 'X')\n",
    "            eval = minimax(board, depth - 1, True, alpha, beta)\n",
    "            board.undo_move(row, col)\n",
    "            min_eval = min(min_eval, eval)\n",
    "            beta = min(beta, eval)\n",
    "            if beta <= alpha:\n",
    "                break\n",
    "        return min_eval\n",
    "\n",
    "# Function to find the best move using Minimax\n",
    "def find_best_move(board):\n",
    "    best_move = (-1, -1)\n",
    "    best_eval = -math.inf\n",
    "    for row, col in board.get_empty_cells():\n",
    "        board.make_move(row, col, 'O')\n",
    "        eval = minimax(board, 5, False, -math.inf, math.inf)  # Depth is set to 5\n",
    "        board.undo_move(row, col)\n",
    "        if eval > best_eval:\n",
    "            best_eval = eval\n",
    "            best_move = (row, col)\n",
    "    return best_move\n",
    "\n",
    "# Main function to play Tic-Tac-Toe\n",
    "def play_tic_tac_toe():\n",
    "    board = Board()\n",
    "    while not board.game_over():\n",
    "        board.print_board()\n",
    "        row = int(input(\"Enter row: \"))\n",
    "        col = int(input(\"Enter column: \"))\n",
    "        board.make_move(row, col, 'X')\n",
    "        if board.game_over():\n",
    "            break\n",
    "        best_move = find_best_move(board)\n",
    "        board.make_move(best_move[0], best_move[1], 'O')\n",
    "    board.print_board()\n",
    "    if 'X' in board.board[0]:\n",
    "        print(\"You win!\")\n",
    "    elif 'O' in board.board[0]:\n",
    "        print(\"You lose!\")\n",
    "    else:\n",
    "        print(\"It's a draw!\")\n",
    "\n",
    "\n",
    "# Play Tic-Tac-Toe\n",
    "play_tic_tac_toe()"
   ]
  },
  {
   "cell_type": "markdown",
   "id": "61962730",
   "metadata": {},
   "source": [
    "# Min-Max Algorithm"
   ]
  },
  {
   "cell_type": "code",
   "execution_count": 1,
   "id": "ce040bab",
   "metadata": {},
   "outputs": [
    {
     "name": "stdout",
     "output_type": "stream",
     "text": [
      "The optimal value is : 12\n"
     ]
    }
   ],
   "source": [
    "import math\n",
    " \n",
    "def minimax (curDepth, nodeIndex,\n",
    "             maxTurn, scores, \n",
    "             targetDepth):\n",
    " \n",
    "    # base case : targetDepth reached\n",
    "    if (curDepth == targetDepth): \n",
    "        return scores[nodeIndex]\n",
    "     \n",
    "    if (maxTurn):\n",
    "        return max(minimax(curDepth + 1, nodeIndex * 2, \n",
    "                    False, scores, targetDepth), \n",
    "                   minimax(curDepth + 1, nodeIndex * 2 + 1, \n",
    "                    False, scores, targetDepth))\n",
    "     \n",
    "    else:\n",
    "        return min(minimax(curDepth + 1, nodeIndex * 2, \n",
    "                     True, scores, targetDepth), \n",
    "                   minimax(curDepth + 1, nodeIndex * 2 + 1, \n",
    "                     True, scores, targetDepth))\n",
    "     \n",
    "# Driver code\n",
    "scores = [3, 5, 2, 9, 12, 5, 23, 23]\n",
    " \n",
    "treeDepth = math.log(len(scores), 2)\n",
    " \n",
    "print(\"The optimal value is : \", end = \"\")\n",
    "print(minimax(0, 0, True, scores, treeDepth))"
   ]
  },
  {
   "cell_type": "markdown",
   "id": "f5a037e5",
   "metadata": {},
   "source": [
    "# Alpha-Beta Pruning"
   ]
  },
  {
   "cell_type": "code",
   "execution_count": 2,
   "id": "68385084",
   "metadata": {},
   "outputs": [
    {
     "name": "stdout",
     "output_type": "stream",
     "text": [
      "The optimal value is: 5\n"
     ]
    }
   ],
   "source": [
    "# Initial values of Alpha and Beta\n",
    "MAX = 1000\n",
    "MIN = -1000\n",
    "\n",
    "# Returns optimal value for current player\n",
    "def alpha_beta_pruning(depth, nodeIndex, maximizingPlayer, values, alpha, beta):\n",
    "    # Terminating condition - leaf node is reached\n",
    "    if depth == 3:\n",
    "        return values[nodeIndex]\n",
    "    \n",
    "    if maximizingPlayer:\n",
    "        best = MIN\n",
    "        for i in range(0, 2):\n",
    "            val = alpha_beta_pruning(depth + 1, nodeIndex * 2 + i, False, values, alpha, beta)\n",
    "            best = max(best, val)\n",
    "            alpha = max(alpha, best)\n",
    "            if beta <= alpha:\n",
    "                break\n",
    "        return best\n",
    "    else:\n",
    "        best = MAX\n",
    "        for i in range(0, 2):\n",
    "            val = alpha_beta_pruning(depth + 1, nodeIndex * 2 + i, True, values, alpha, beta)\n",
    "            best = min(best, val)\n",
    "            beta = min(beta, best)\n",
    "            if beta <= alpha:\n",
    "                break\n",
    "        return best\n",
    "\n",
    "# Driver code\n",
    "if __name__ == \"__main__\":\n",
    "    values = [3, 5, 6, 9, 1, 2, 0, -1]\n",
    "    print(\"The optimal value is:\", alpha_beta_pruning(0, 0, True, values, MIN, MAX))"
   ]
  },
  {
   "cell_type": "markdown",
   "id": "691c4a58",
   "metadata": {},
   "source": [
    "# NLP-Tokenisation"
   ]
  },
  {
   "cell_type": "code",
   "execution_count": 4,
   "id": "7d688f4d",
   "metadata": {},
   "outputs": [
    {
     "name": "stderr",
     "output_type": "stream",
     "text": [
      "[nltk_data] Downloading package punkt to /Users/adyotbose/nltk_data...\n",
      "[nltk_data]   Package punkt is already up-to-date!\n",
      "[nltk_data] Downloading package wordnet to\n",
      "[nltk_data]     /Users/adyotbose/nltk_data...\n",
      "[nltk_data]   Package wordnet is already up-to-date!\n",
      "[nltk_data] Downloading package stopwords to\n",
      "[nltk_data]     /Users/adyotbose/nltk_data...\n",
      "[nltk_data]   Package stopwords is already up-to-date!\n",
      "[nltk_data] Downloading package omw-1.4 to\n",
      "[nltk_data]     /Users/adyotbose/nltk_data...\n"
     ]
    },
    {
     "name": "stdout",
     "output_type": "stream",
     "text": [
      "Original Text:\n",
      "NLTK is a powerful tool for natural language processing. It provides easy-to-use interfaces to over 50 corpora and lexical resources such as WordNet, along with a suite of text processing libraries for tokenization, parsing, classification, stemming, tagging, and semantic reasoning.\n",
      "\n",
      "Tokenization:\n",
      "['NLTK', 'is', 'a', 'powerful', 'tool', 'for', 'natural', 'language', 'processing', '.', 'It', 'provides', 'easy-to-use', 'interfaces', 'to', 'over', '50', 'corpora', 'and', 'lexical', 'resources', 'such', 'as', 'WordNet', ',', 'along', 'with', 'a', 'suite', 'of', 'text', 'processing', 'libraries', 'for', 'tokenization', ',', 'parsing', ',', 'classification', ',', 'stemming', ',', 'tagging', ',', 'and', 'semantic', 'reasoning', '.']\n",
      "\n",
      "Lemmatization:\n",
      "['NLTK', 'is', 'a', 'powerful', 'tool', 'for', 'natural', 'language', 'processing', '.', 'It', 'provides', 'easy-to-use', 'interface', 'to', 'over', '50', 'corpus', 'and', 'lexical', 'resource', 'such', 'a', 'WordNet', ',', 'along', 'with', 'a', 'suite', 'of', 'text', 'processing', 'library', 'for', 'tokenization', ',', 'parsing', ',', 'classification', ',', 'stemming', ',', 'tagging', ',', 'and', 'semantic', 'reasoning', '.']\n",
      "\n",
      "Stemming:\n",
      "['nltk', 'is', 'a', 'power', 'tool', 'for', 'natur', 'languag', 'process', '.', 'it', 'provid', 'easy-to-us', 'interfac', 'to', 'over', '50', 'corpora', 'and', 'lexic', 'resourc', 'such', 'as', 'wordnet', ',', 'along', 'with', 'a', 'suit', 'of', 'text', 'process', 'librari', 'for', 'token', ',', 'pars', ',', 'classif', ',', 'stem', ',', 'tag', ',', 'and', 'semant', 'reason', '.']\n",
      "\n",
      "Stop Words Removal:\n",
      "['NLTK', 'powerful', 'tool', 'natural', 'language', 'processing', '.', 'provides', 'easy-to-use', 'interfaces', '50', 'corpora', 'lexical', 'resources', 'WordNet', ',', 'along', 'suite', 'text', 'processing', 'libraries', 'tokenization', ',', 'parsing', ',', 'classification', ',', 'stemming', ',', 'tagging', ',', 'semantic', 'reasoning', '.']\n"
     ]
    }
   ],
   "source": [
    "import nltk\n",
    "from nltk.corpus import stopwords\n",
    "from nltk.tokenize import word_tokenize\n",
    "from nltk.stem import PorterStemmer, WordNetLemmatizer\n",
    "\n",
    "# Download NLTK resources\n",
    "nltk.download('punkt')\n",
    "nltk.download('wordnet')\n",
    "nltk.download('stopwords')\n",
    "nltk.download('omw-1.4')\n",
    "\n",
    "# Sample text\n",
    "text = \"NLTK is a powerful tool for natural language processing. It provides easy-to-use interfaces to over 50 corpora and lexical resources such as WordNet, along with a suite of text processing libraries for tokenization, parsing, classification, stemming, tagging, and semantic reasoning.\"\n",
    "\n",
    "# Tokenization\n",
    "tokens = word_tokenize(text)\n",
    "\n",
    "# Lemmatization\n",
    "lemmatizer = WordNetLemmatizer()\n",
    "lemmatized_tokens = [lemmatizer.lemmatize(word) for word in tokens]\n",
    "\n",
    "# Stemming\n",
    "stemmer = PorterStemmer()\n",
    "stemmed_tokens = [stemmer.stem(word) for word in tokens]\n",
    "\n",
    "# Stop words removal\n",
    "stop_words = set(stopwords.words('english'))\n",
    "filtered_tokens = [word for word in tokens if word.lower() not in stop_words]\n",
    "\n",
    "print(\"Original Text:\")\n",
    "print(text)\n",
    "print(\"\\nTokenization:\")\n",
    "print(tokens)\n",
    "print(\"\\nLemmatization:\")\n",
    "print(lemmatized_tokens)\n",
    "print(\"\\nStemming:\")\n",
    "print(stemmed_tokens)\n",
    "print(\"\\nStop Words Removal:\")\n",
    "print(filtered_tokens)"
   ]
  },
  {
   "cell_type": "markdown",
   "id": "7e21fbc7",
   "metadata": {},
   "source": [
    "# Bag of Words"
   ]
  },
  {
   "cell_type": "code",
   "execution_count": 5,
   "id": "95dd5bcb",
   "metadata": {},
   "outputs": [
    {
     "name": "stdout",
     "output_type": "stream",
     "text": [
      "Bag-of-Words Matrix:\n",
      "[[0. 0. 0. ... 0. 0. 0.]\n",
      " [0. 0. 0. ... 0. 0. 0.]\n",
      " [1. 0. 0. ... 0. 0. 0.]\n",
      " ...\n",
      " [0. 0. 1. ... 0. 0. 0.]\n",
      " [0. 0. 0. ... 0. 0. 0.]\n",
      " [0. 0. 0. ... 0. 0. 0.]]\n",
      "\n",
      "Vocabulary:\n",
      "['a', 'along', 'and', 'as', 'classification', 'corpora', 'for', 'interfaces', 'is', 'it', 'language', 'lexical', 'libraries', 'natural', 'nltk', 'of', 'over', 'parsing', 'powerful', 'processing', 'provides', 'reasoning', 'resources', 'semantic', 'stemming', 'such', 'suite', 'tagging', 'text', 'to', 'tokenization', 'tool', 'with', 'wordnet']\n"
     ]
    }
   ],
   "source": [
    "import nltk\n",
    "import re\n",
    "import numpy as np\n",
    "\n",
    "# Sample text\n",
    "text = \"NLTK is a powerful tool for natural language processing. It provides easy-to-use interfaces to over 50 corpora and lexical resources such as WordNet, along with a suite of text processing libraries for tokenization, parsing, classification, stemming, tagging, and semantic reasoning.\"\n",
    "\n",
    "# Tokenize the text into words\n",
    "words = nltk.word_tokenize(text)\n",
    "\n",
    "# Clean the words (remove non-alphanumeric characters and convert to lowercase)\n",
    "words = [word.lower() for word in words if re.match('^[a-zA-Z]+$', word)]\n",
    "\n",
    "# Create a dictionary to store word counts\n",
    "word_counts = {}\n",
    "\n",
    "# Count occurrences of each word\n",
    "for word in words:\n",
    "    if word not in word_counts:\n",
    "        word_counts[word] = 1\n",
    "    else:\n",
    "        word_counts[word] += 1\n",
    "\n",
    "# Get the unique words (vocabulary)\n",
    "vocabulary = sorted(word_counts.keys())\n",
    "\n",
    "# Create a matrix to represent Bag-of-Words\n",
    "bow_matrix = np.zeros((len(words), len(vocabulary)))\n",
    "\n",
    "# Populate the matrix with word counts\n",
    "for i, word in enumerate(words):\n",
    "    for j, vocab_word in enumerate(vocabulary):\n",
    "        if word == vocab_word:\n",
    "            bow_matrix[i, j] += 1\n",
    "\n",
    "print(\"Bag-of-Words Matrix:\")\n",
    "print(bow_matrix)\n",
    "print(\"\\nVocabulary:\")\n",
    "print(vocabulary)"
   ]
  },
  {
   "cell_type": "markdown",
   "id": "0a106e8c",
   "metadata": {},
   "source": [
    "# XOR Gate"
   ]
  },
  {
   "cell_type": "code",
   "execution_count": 6,
   "id": "baeead4d",
   "metadata": {},
   "outputs": [
    {
     "name": "stdout",
     "output_type": "stream",
     "text": [
      "0 XOR 0 = 0\n",
      "0 XOR 1 = 1\n",
      "1 XOR 0 = 1\n",
      "1 XOR 1 = 0\n"
     ]
    }
   ],
   "source": [
    "def xor_gate(x, y):\n",
    "    if x == y:\n",
    "        return 0\n",
    "    else:\n",
    "        return 1\n",
    "\n",
    "# Test cases\n",
    "print(\"0 XOR 0 =\", xor_gate(0, 0))\n",
    "print(\"0 XOR 1 =\", xor_gate(0, 1))\n",
    "print(\"1 XOR 0 =\", xor_gate(1, 0))\n",
    "print(\"1 XOR 1 =\", xor_gate(1, 1))"
   ]
  },
  {
   "cell_type": "markdown",
   "id": "12d6cb2a",
   "metadata": {},
   "source": [
    "# Open-Ended"
   ]
  },
  {
   "cell_type": "code",
   "execution_count": 45,
   "id": "c0aff06a",
   "metadata": {},
   "outputs": [],
   "source": [
    "import pandas as pd\n",
    "import numpy as np\n",
    "import seaborn as sns"
   ]
  },
  {
   "cell_type": "code",
   "execution_count": 46,
   "id": "57663691",
   "metadata": {},
   "outputs": [],
   "source": [
    "cars_data = pd.read_csv('cars_sampled.csv')"
   ]
  },
  {
   "cell_type": "code",
   "execution_count": 47,
   "id": "d55db70e",
   "metadata": {},
   "outputs": [
    {
     "data": {
      "text/html": [
       "<div>\n",
       "<style scoped>\n",
       "    .dataframe tbody tr th:only-of-type {\n",
       "        vertical-align: middle;\n",
       "    }\n",
       "\n",
       "    .dataframe tbody tr th {\n",
       "        vertical-align: top;\n",
       "    }\n",
       "\n",
       "    .dataframe thead th {\n",
       "        text-align: right;\n",
       "    }\n",
       "</style>\n",
       "<table border=\"1\" class=\"dataframe\">\n",
       "  <thead>\n",
       "    <tr style=\"text-align: right;\">\n",
       "      <th></th>\n",
       "      <th>dateCrawled</th>\n",
       "      <th>name</th>\n",
       "      <th>seller</th>\n",
       "      <th>offerType</th>\n",
       "      <th>price</th>\n",
       "      <th>abtest</th>\n",
       "      <th>vehicleType</th>\n",
       "      <th>yearOfRegistration</th>\n",
       "      <th>gearbox</th>\n",
       "      <th>powerPS</th>\n",
       "      <th>model</th>\n",
       "      <th>kilometer</th>\n",
       "      <th>monthOfRegistration</th>\n",
       "      <th>fuelType</th>\n",
       "      <th>brand</th>\n",
       "      <th>notRepairedDamage</th>\n",
       "      <th>dateCreated</th>\n",
       "      <th>postalCode</th>\n",
       "      <th>lastSeen</th>\n",
       "    </tr>\n",
       "  </thead>\n",
       "  <tbody>\n",
       "    <tr>\n",
       "      <th>0</th>\n",
       "      <td>30/03/2016 13:51</td>\n",
       "      <td>Zu_verkaufen</td>\n",
       "      <td>private</td>\n",
       "      <td>offer</td>\n",
       "      <td>4450</td>\n",
       "      <td>test</td>\n",
       "      <td>limousine</td>\n",
       "      <td>2003</td>\n",
       "      <td>manual</td>\n",
       "      <td>150</td>\n",
       "      <td>3er</td>\n",
       "      <td>150000</td>\n",
       "      <td>3</td>\n",
       "      <td>diesel</td>\n",
       "      <td>bmw</td>\n",
       "      <td>NaN</td>\n",
       "      <td>30/03/2016 0:00</td>\n",
       "      <td>20257</td>\n",
       "      <td>7/4/2016 4:44</td>\n",
       "    </tr>\n",
       "    <tr>\n",
       "      <th>1</th>\n",
       "      <td>7/3/2016 9:54</td>\n",
       "      <td>Volvo_XC90_2.4D_Summum</td>\n",
       "      <td>private</td>\n",
       "      <td>offer</td>\n",
       "      <td>13299</td>\n",
       "      <td>control</td>\n",
       "      <td>suv</td>\n",
       "      <td>2005</td>\n",
       "      <td>manual</td>\n",
       "      <td>163</td>\n",
       "      <td>xc_reihe</td>\n",
       "      <td>150000</td>\n",
       "      <td>6</td>\n",
       "      <td>diesel</td>\n",
       "      <td>volvo</td>\n",
       "      <td>no</td>\n",
       "      <td>7/3/2016 0:00</td>\n",
       "      <td>88045</td>\n",
       "      <td>26/03/2016 13:17</td>\n",
       "    </tr>\n",
       "    <tr>\n",
       "      <th>2</th>\n",
       "      <td>1/4/2016 0:57</td>\n",
       "      <td>Volkswagen_Touran</td>\n",
       "      <td>private</td>\n",
       "      <td>offer</td>\n",
       "      <td>3200</td>\n",
       "      <td>test</td>\n",
       "      <td>bus</td>\n",
       "      <td>2003</td>\n",
       "      <td>manual</td>\n",
       "      <td>101</td>\n",
       "      <td>touran</td>\n",
       "      <td>150000</td>\n",
       "      <td>11</td>\n",
       "      <td>diesel</td>\n",
       "      <td>volkswagen</td>\n",
       "      <td>NaN</td>\n",
       "      <td>31/03/2016 0:00</td>\n",
       "      <td>27449</td>\n",
       "      <td>1/4/2016 8:40</td>\n",
       "    </tr>\n",
       "    <tr>\n",
       "      <th>3</th>\n",
       "      <td>19/03/2016 17:50</td>\n",
       "      <td>Seat_Ibiza_1.4_16V_Reference</td>\n",
       "      <td>private</td>\n",
       "      <td>offer</td>\n",
       "      <td>4500</td>\n",
       "      <td>control</td>\n",
       "      <td>small car</td>\n",
       "      <td>2006</td>\n",
       "      <td>manual</td>\n",
       "      <td>86</td>\n",
       "      <td>ibiza</td>\n",
       "      <td>60000</td>\n",
       "      <td>12</td>\n",
       "      <td>petrol</td>\n",
       "      <td>seat</td>\n",
       "      <td>no</td>\n",
       "      <td>19/03/2016 0:00</td>\n",
       "      <td>34537</td>\n",
       "      <td>7/4/2016 4:44</td>\n",
       "    </tr>\n",
       "    <tr>\n",
       "      <th>4</th>\n",
       "      <td>16/03/2016 14:51</td>\n",
       "      <td>Volvo_XC90_D5_Aut._RDesign_R_Design_AWD_GSHD_S...</td>\n",
       "      <td>private</td>\n",
       "      <td>offer</td>\n",
       "      <td>18750</td>\n",
       "      <td>test</td>\n",
       "      <td>suv</td>\n",
       "      <td>2008</td>\n",
       "      <td>automatic</td>\n",
       "      <td>185</td>\n",
       "      <td>xc_reihe</td>\n",
       "      <td>150000</td>\n",
       "      <td>11</td>\n",
       "      <td>diesel</td>\n",
       "      <td>volvo</td>\n",
       "      <td>no</td>\n",
       "      <td>16/03/2016 0:00</td>\n",
       "      <td>55270</td>\n",
       "      <td>1/4/2016 23:18</td>\n",
       "    </tr>\n",
       "  </tbody>\n",
       "</table>\n",
       "</div>"
      ],
      "text/plain": [
       "        dateCrawled                                               name  \\\n",
       "0  30/03/2016 13:51                                       Zu_verkaufen   \n",
       "1     7/3/2016 9:54                             Volvo_XC90_2.4D_Summum   \n",
       "2     1/4/2016 0:57                                  Volkswagen_Touran   \n",
       "3  19/03/2016 17:50                       Seat_Ibiza_1.4_16V_Reference   \n",
       "4  16/03/2016 14:51  Volvo_XC90_D5_Aut._RDesign_R_Design_AWD_GSHD_S...   \n",
       "\n",
       "    seller offerType  price   abtest vehicleType  yearOfRegistration  \\\n",
       "0  private     offer   4450     test   limousine                2003   \n",
       "1  private     offer  13299  control         suv                2005   \n",
       "2  private     offer   3200     test         bus                2003   \n",
       "3  private     offer   4500  control   small car                2006   \n",
       "4  private     offer  18750     test         suv                2008   \n",
       "\n",
       "     gearbox  powerPS     model  kilometer  monthOfRegistration fuelType  \\\n",
       "0     manual      150       3er     150000                    3   diesel   \n",
       "1     manual      163  xc_reihe     150000                    6   diesel   \n",
       "2     manual      101    touran     150000                   11   diesel   \n",
       "3     manual       86     ibiza      60000                   12   petrol   \n",
       "4  automatic      185  xc_reihe     150000                   11   diesel   \n",
       "\n",
       "        brand notRepairedDamage      dateCreated  postalCode          lastSeen  \n",
       "0         bmw               NaN  30/03/2016 0:00       20257     7/4/2016 4:44  \n",
       "1       volvo                no    7/3/2016 0:00       88045  26/03/2016 13:17  \n",
       "2  volkswagen               NaN  31/03/2016 0:00       27449     1/4/2016 8:40  \n",
       "3        seat                no  19/03/2016 0:00       34537     7/4/2016 4:44  \n",
       "4       volvo                no  16/03/2016 0:00       55270    1/4/2016 23:18  "
      ]
     },
     "execution_count": 47,
     "metadata": {},
     "output_type": "execute_result"
    }
   ],
   "source": [
    "cars_data.head()"
   ]
  },
  {
   "cell_type": "code",
   "execution_count": 48,
   "id": "26f0853d",
   "metadata": {},
   "outputs": [
    {
     "data": {
      "text/html": [
       "<div>\n",
       "<style scoped>\n",
       "    .dataframe tbody tr th:only-of-type {\n",
       "        vertical-align: middle;\n",
       "    }\n",
       "\n",
       "    .dataframe tbody tr th {\n",
       "        vertical-align: top;\n",
       "    }\n",
       "\n",
       "    .dataframe thead th {\n",
       "        text-align: right;\n",
       "    }\n",
       "</style>\n",
       "<table border=\"1\" class=\"dataframe\">\n",
       "  <thead>\n",
       "    <tr style=\"text-align: right;\">\n",
       "      <th></th>\n",
       "      <th>price</th>\n",
       "      <th>yearOfRegistration</th>\n",
       "      <th>powerPS</th>\n",
       "      <th>kilometer</th>\n",
       "      <th>monthOfRegistration</th>\n",
       "      <th>postalCode</th>\n",
       "    </tr>\n",
       "  </thead>\n",
       "  <tbody>\n",
       "    <tr>\n",
       "      <th>count</th>\n",
       "      <td>50001.000</td>\n",
       "      <td>50001.000</td>\n",
       "      <td>50001.000</td>\n",
       "      <td>50001.000</td>\n",
       "      <td>50001.000</td>\n",
       "      <td>50001.000</td>\n",
       "    </tr>\n",
       "    <tr>\n",
       "      <th>mean</th>\n",
       "      <td>6559.865</td>\n",
       "      <td>2005.544</td>\n",
       "      <td>116.496</td>\n",
       "      <td>125613.688</td>\n",
       "      <td>5.744</td>\n",
       "      <td>50775.217</td>\n",
       "    </tr>\n",
       "    <tr>\n",
       "      <th>std</th>\n",
       "      <td>85818.470</td>\n",
       "      <td>122.992</td>\n",
       "      <td>230.568</td>\n",
       "      <td>40205.234</td>\n",
       "      <td>3.711</td>\n",
       "      <td>25743.702</td>\n",
       "    </tr>\n",
       "    <tr>\n",
       "      <th>min</th>\n",
       "      <td>0.000</td>\n",
       "      <td>1000.000</td>\n",
       "      <td>0.000</td>\n",
       "      <td>5000.000</td>\n",
       "      <td>0.000</td>\n",
       "      <td>1067.000</td>\n",
       "    </tr>\n",
       "    <tr>\n",
       "      <th>25%</th>\n",
       "      <td>1150.000</td>\n",
       "      <td>1999.000</td>\n",
       "      <td>69.000</td>\n",
       "      <td>125000.000</td>\n",
       "      <td>3.000</td>\n",
       "      <td>30559.000</td>\n",
       "    </tr>\n",
       "    <tr>\n",
       "      <th>50%</th>\n",
       "      <td>2950.000</td>\n",
       "      <td>2003.000</td>\n",
       "      <td>105.000</td>\n",
       "      <td>150000.000</td>\n",
       "      <td>6.000</td>\n",
       "      <td>49504.000</td>\n",
       "    </tr>\n",
       "    <tr>\n",
       "      <th>75%</th>\n",
       "      <td>7190.000</td>\n",
       "      <td>2008.000</td>\n",
       "      <td>150.000</td>\n",
       "      <td>150000.000</td>\n",
       "      <td>9.000</td>\n",
       "      <td>71404.000</td>\n",
       "    </tr>\n",
       "    <tr>\n",
       "      <th>max</th>\n",
       "      <td>12345678.000</td>\n",
       "      <td>9999.000</td>\n",
       "      <td>19312.000</td>\n",
       "      <td>150000.000</td>\n",
       "      <td>12.000</td>\n",
       "      <td>99998.000</td>\n",
       "    </tr>\n",
       "  </tbody>\n",
       "</table>\n",
       "</div>"
      ],
      "text/plain": [
       "             price  yearOfRegistration   powerPS  kilometer  \\\n",
       "count    50001.000           50001.000 50001.000  50001.000   \n",
       "mean      6559.865            2005.544   116.496 125613.688   \n",
       "std      85818.470             122.992   230.568  40205.234   \n",
       "min          0.000            1000.000     0.000   5000.000   \n",
       "25%       1150.000            1999.000    69.000 125000.000   \n",
       "50%       2950.000            2003.000   105.000 150000.000   \n",
       "75%       7190.000            2008.000   150.000 150000.000   \n",
       "max   12345678.000            9999.000 19312.000 150000.000   \n",
       "\n",
       "       monthOfRegistration  postalCode  \n",
       "count            50001.000   50001.000  \n",
       "mean                 5.744   50775.217  \n",
       "std                  3.711   25743.702  \n",
       "min                  0.000    1067.000  \n",
       "25%                  3.000   30559.000  \n",
       "50%                  6.000   49504.000  \n",
       "75%                  9.000   71404.000  \n",
       "max                 12.000   99998.000  "
      ]
     },
     "execution_count": 48,
     "metadata": {},
     "output_type": "execute_result"
    }
   ],
   "source": [
    "cars_data.describe()"
   ]
  },
  {
   "cell_type": "code",
   "execution_count": 49,
   "id": "8107c4d9",
   "metadata": {},
   "outputs": [
    {
     "data": {
      "text/plain": [
       "Index(['dateCrawled', 'name', 'seller', 'offerType', 'price', 'abtest',\n",
       "       'vehicleType', 'yearOfRegistration', 'gearbox', 'powerPS', 'model',\n",
       "       'kilometer', 'monthOfRegistration', 'fuelType', 'brand',\n",
       "       'notRepairedDamage', 'dateCreated', 'postalCode', 'lastSeen'],\n",
       "      dtype='object')"
      ]
     },
     "execution_count": 49,
     "metadata": {},
     "output_type": "execute_result"
    }
   ],
   "source": [
    "cars_data.columns"
   ]
  },
  {
   "cell_type": "code",
   "execution_count": 50,
   "id": "b05af91b",
   "metadata": {},
   "outputs": [],
   "source": [
    "cars = cars_data.copy()"
   ]
  },
  {
   "cell_type": "code",
   "execution_count": 51,
   "id": "bcf1ec81",
   "metadata": {},
   "outputs": [
    {
     "name": "stdout",
     "output_type": "stream",
     "text": [
      "<class 'pandas.core.frame.DataFrame'>\n",
      "RangeIndex: 50001 entries, 0 to 50000\n",
      "Data columns (total 19 columns):\n",
      " #   Column               Non-Null Count  Dtype \n",
      "---  ------               --------------  ----- \n",
      " 0   dateCrawled          50001 non-null  object\n",
      " 1   name                 50001 non-null  object\n",
      " 2   seller               50001 non-null  object\n",
      " 3   offerType            50001 non-null  object\n",
      " 4   price                50001 non-null  int64 \n",
      " 5   abtest               50001 non-null  object\n",
      " 6   vehicleType          44813 non-null  object\n",
      " 7   yearOfRegistration   50001 non-null  int64 \n",
      " 8   gearbox              47177 non-null  object\n",
      " 9   powerPS              50001 non-null  int64 \n",
      " 10  model                47243 non-null  object\n",
      " 11  kilometer            50001 non-null  int64 \n",
      " 12  monthOfRegistration  50001 non-null  int64 \n",
      " 13  fuelType             45498 non-null  object\n",
      " 14  brand                50001 non-null  object\n",
      " 15  notRepairedDamage    40285 non-null  object\n",
      " 16  dateCreated          50001 non-null  object\n",
      " 17  postalCode           50001 non-null  int64 \n",
      " 18  lastSeen             50001 non-null  object\n",
      "dtypes: int64(6), object(13)\n",
      "memory usage: 7.2+ MB\n"
     ]
    }
   ],
   "source": [
    "cars.info()"
   ]
  },
  {
   "cell_type": "code",
   "execution_count": 52,
   "id": "0692eb2a",
   "metadata": {},
   "outputs": [],
   "source": [
    "pd.set_option('display.float_format', lambda x: '%.3f' %x)"
   ]
  },
  {
   "cell_type": "code",
   "execution_count": 53,
   "id": "398fc9c8",
   "metadata": {},
   "outputs": [
    {
     "data": {
      "text/html": [
       "<div>\n",
       "<style scoped>\n",
       "    .dataframe tbody tr th:only-of-type {\n",
       "        vertical-align: middle;\n",
       "    }\n",
       "\n",
       "    .dataframe tbody tr th {\n",
       "        vertical-align: top;\n",
       "    }\n",
       "\n",
       "    .dataframe thead th {\n",
       "        text-align: right;\n",
       "    }\n",
       "</style>\n",
       "<table border=\"1\" class=\"dataframe\">\n",
       "  <thead>\n",
       "    <tr style=\"text-align: right;\">\n",
       "      <th></th>\n",
       "      <th>price</th>\n",
       "      <th>yearOfRegistration</th>\n",
       "      <th>powerPS</th>\n",
       "      <th>kilometer</th>\n",
       "      <th>monthOfRegistration</th>\n",
       "      <th>postalCode</th>\n",
       "    </tr>\n",
       "  </thead>\n",
       "  <tbody>\n",
       "    <tr>\n",
       "      <th>count</th>\n",
       "      <td>50001.000</td>\n",
       "      <td>50001.000</td>\n",
       "      <td>50001.000</td>\n",
       "      <td>50001.000</td>\n",
       "      <td>50001.000</td>\n",
       "      <td>50001.000</td>\n",
       "    </tr>\n",
       "    <tr>\n",
       "      <th>mean</th>\n",
       "      <td>6559.865</td>\n",
       "      <td>2005.544</td>\n",
       "      <td>116.496</td>\n",
       "      <td>125613.688</td>\n",
       "      <td>5.744</td>\n",
       "      <td>50775.217</td>\n",
       "    </tr>\n",
       "    <tr>\n",
       "      <th>std</th>\n",
       "      <td>85818.470</td>\n",
       "      <td>122.992</td>\n",
       "      <td>230.568</td>\n",
       "      <td>40205.234</td>\n",
       "      <td>3.711</td>\n",
       "      <td>25743.702</td>\n",
       "    </tr>\n",
       "    <tr>\n",
       "      <th>min</th>\n",
       "      <td>0.000</td>\n",
       "      <td>1000.000</td>\n",
       "      <td>0.000</td>\n",
       "      <td>5000.000</td>\n",
       "      <td>0.000</td>\n",
       "      <td>1067.000</td>\n",
       "    </tr>\n",
       "    <tr>\n",
       "      <th>25%</th>\n",
       "      <td>1150.000</td>\n",
       "      <td>1999.000</td>\n",
       "      <td>69.000</td>\n",
       "      <td>125000.000</td>\n",
       "      <td>3.000</td>\n",
       "      <td>30559.000</td>\n",
       "    </tr>\n",
       "    <tr>\n",
       "      <th>50%</th>\n",
       "      <td>2950.000</td>\n",
       "      <td>2003.000</td>\n",
       "      <td>105.000</td>\n",
       "      <td>150000.000</td>\n",
       "      <td>6.000</td>\n",
       "      <td>49504.000</td>\n",
       "    </tr>\n",
       "    <tr>\n",
       "      <th>75%</th>\n",
       "      <td>7190.000</td>\n",
       "      <td>2008.000</td>\n",
       "      <td>150.000</td>\n",
       "      <td>150000.000</td>\n",
       "      <td>9.000</td>\n",
       "      <td>71404.000</td>\n",
       "    </tr>\n",
       "    <tr>\n",
       "      <th>max</th>\n",
       "      <td>12345678.000</td>\n",
       "      <td>9999.000</td>\n",
       "      <td>19312.000</td>\n",
       "      <td>150000.000</td>\n",
       "      <td>12.000</td>\n",
       "      <td>99998.000</td>\n",
       "    </tr>\n",
       "  </tbody>\n",
       "</table>\n",
       "</div>"
      ],
      "text/plain": [
       "             price  yearOfRegistration   powerPS  kilometer  \\\n",
       "count    50001.000           50001.000 50001.000  50001.000   \n",
       "mean      6559.865            2005.544   116.496 125613.688   \n",
       "std      85818.470             122.992   230.568  40205.234   \n",
       "min          0.000            1000.000     0.000   5000.000   \n",
       "25%       1150.000            1999.000    69.000 125000.000   \n",
       "50%       2950.000            2003.000   105.000 150000.000   \n",
       "75%       7190.000            2008.000   150.000 150000.000   \n",
       "max   12345678.000            9999.000 19312.000 150000.000   \n",
       "\n",
       "       monthOfRegistration  postalCode  \n",
       "count            50001.000   50001.000  \n",
       "mean                 5.744   50775.217  \n",
       "std                  3.711   25743.702  \n",
       "min                  0.000    1067.000  \n",
       "25%                  3.000   30559.000  \n",
       "50%                  6.000   49504.000  \n",
       "75%                  9.000   71404.000  \n",
       "max                 12.000   99998.000  "
      ]
     },
     "execution_count": 53,
     "metadata": {},
     "output_type": "execute_result"
    }
   ],
   "source": [
    "cars.describe()"
   ]
  },
  {
   "cell_type": "code",
   "execution_count": 54,
   "id": "7e29879f",
   "metadata": {},
   "outputs": [],
   "source": [
    "col = ['name','dateCrawled','dateCreated', 'postalCode', 'lastSeen']\n",
    "cars = cars.drop(columns=col, axis = 1)"
   ]
  },
  {
   "cell_type": "code",
   "execution_count": 55,
   "id": "791d3f9c",
   "metadata": {},
   "outputs": [
    {
     "data": {
      "text/plain": [
       "700014"
      ]
     },
     "execution_count": 55,
     "metadata": {},
     "output_type": "execute_result"
    }
   ],
   "source": [
    "cars.size"
   ]
  },
  {
   "cell_type": "code",
   "execution_count": 56,
   "id": "d4b44d48",
   "metadata": {},
   "outputs": [],
   "source": [
    "cars.drop_duplicates(keep='first', inplace = True)"
   ]
  },
  {
   "cell_type": "code",
   "execution_count": 57,
   "id": "f2534a62",
   "metadata": {},
   "outputs": [
    {
     "data": {
      "text/plain": [
       "49531"
      ]
     },
     "execution_count": 57,
     "metadata": {},
     "output_type": "execute_result"
    }
   ],
   "source": [
    "len(cars)"
   ]
  },
  {
   "cell_type": "code",
   "execution_count": 58,
   "id": "9f754197",
   "metadata": {},
   "outputs": [
    {
     "name": "stdout",
     "output_type": "stream",
     "text": [
      "<class 'pandas.core.frame.DataFrame'>\n",
      "Int64Index: 49531 entries, 0 to 50000\n",
      "Data columns (total 14 columns):\n",
      " #   Column               Non-Null Count  Dtype \n",
      "---  ------               --------------  ----- \n",
      " 0   seller               49531 non-null  object\n",
      " 1   offerType            49531 non-null  object\n",
      " 2   price                49531 non-null  int64 \n",
      " 3   abtest               49531 non-null  object\n",
      " 4   vehicleType          44379 non-null  object\n",
      " 5   yearOfRegistration   49531 non-null  int64 \n",
      " 6   gearbox              46766 non-null  object\n",
      " 7   powerPS              49531 non-null  int64 \n",
      " 8   model                46801 non-null  object\n",
      " 9   kilometer            49531 non-null  int64 \n",
      " 10  monthOfRegistration  49531 non-null  int64 \n",
      " 11  fuelType             45064 non-null  object\n",
      " 12  brand                49531 non-null  object\n",
      " 13  notRepairedDamage    39891 non-null  object\n",
      "dtypes: int64(5), object(9)\n",
      "memory usage: 5.7+ MB\n"
     ]
    }
   ],
   "source": [
    "cars.info()"
   ]
  },
  {
   "cell_type": "code",
   "execution_count": 59,
   "id": "27ab57a3",
   "metadata": {},
   "outputs": [
    {
     "data": {
      "text/plain": [
       "seller                    0\n",
       "offerType                 0\n",
       "price                     0\n",
       "abtest                    0\n",
       "vehicleType            5152\n",
       "yearOfRegistration        0\n",
       "gearbox                2765\n",
       "powerPS                   0\n",
       "model                  2730\n",
       "kilometer                 0\n",
       "monthOfRegistration       0\n",
       "fuelType               4467\n",
       "brand                     0\n",
       "notRepairedDamage      9640\n",
       "dtype: int64"
      ]
     },
     "execution_count": 59,
     "metadata": {},
     "output_type": "execute_result"
    }
   ],
   "source": [
    "cars.isnull().sum()"
   ]
  },
  {
   "cell_type": "code",
   "execution_count": 60,
   "id": "39fb80b2",
   "metadata": {},
   "outputs": [],
   "source": [
    "yearwise_count = cars['yearOfRegistration'].value_counts().sort_index()"
   ]
  },
  {
   "cell_type": "code",
   "execution_count": 61,
   "id": "10f05861",
   "metadata": {},
   "outputs": [
    {
     "data": {
      "text/plain": [
       "1000     6\n",
       "1255     1\n",
       "1500     2\n",
       "1910    14\n",
       "1928     1\n",
       "        ..\n",
       "7500     1\n",
       "7800     1\n",
       "8500     1\n",
       "8888     2\n",
       "9999     7\n",
       "Name: yearOfRegistration, Length: 97, dtype: int64"
      ]
     },
     "execution_count": 61,
     "metadata": {},
     "output_type": "execute_result"
    }
   ],
   "source": [
    "yearwise_count"
   ]
  },
  {
   "cell_type": "code",
   "execution_count": 62,
   "id": "08d299b8",
   "metadata": {},
   "outputs": [
    {
     "data": {
      "text/plain": [
       "24"
      ]
     },
     "execution_count": 62,
     "metadata": {},
     "output_type": "execute_result"
    }
   ],
   "source": [
    "sum(cars['yearOfRegistration'] > 2023)"
   ]
  },
  {
   "cell_type": "code",
   "execution_count": 63,
   "id": "c3eb461f",
   "metadata": {},
   "outputs": [
    {
     "data": {
      "text/plain": [
       "38"
      ]
     },
     "execution_count": 63,
     "metadata": {},
     "output_type": "execute_result"
    }
   ],
   "source": [
    "sum(cars['yearOfRegistration'] < 1950)"
   ]
  },
  {
   "cell_type": "code",
   "execution_count": 64,
   "id": "0e97c688",
   "metadata": {},
   "outputs": [],
   "source": [
    "cars = cars[\n",
    "    (cars.yearOfRegistration <= 2023)&\n",
    "    (cars.yearOfRegistration >= 1950)&\n",
    "    (cars.price >= 100)&\n",
    "    (cars.price <= 150000)&\n",
    "    (cars.powerPS >= 10)&\n",
    "    (cars.powerPS <= 500)\n",
    "]"
   ]
  },
  {
   "cell_type": "code",
   "execution_count": 65,
   "id": "0ff76896",
   "metadata": {},
   "outputs": [
    {
     "data": {
      "text/plain": [
       "598808"
      ]
     },
     "execution_count": 65,
     "metadata": {},
     "output_type": "execute_result"
    }
   ],
   "source": [
    "cars.size"
   ]
  },
  {
   "cell_type": "code",
   "execution_count": 66,
   "id": "bfa496b0",
   "metadata": {},
   "outputs": [
    {
     "name": "stdout",
     "output_type": "stream",
     "text": [
      "<class 'pandas.core.series.Series'>\n",
      "Int64Index: 42772 entries, 0 to 50000\n",
      "Series name: monthOfRegistration\n",
      "Non-Null Count  Dtype\n",
      "--------------  -----\n",
      "42772 non-null  int64\n",
      "dtypes: int64(1)\n",
      "memory usage: 668.3 KB\n"
     ]
    }
   ],
   "source": [
    "cars['monthOfRegistration'].info()"
   ]
  },
  {
   "cell_type": "code",
   "execution_count": 69,
   "id": "bea69d36",
   "metadata": {},
   "outputs": [
    {
     "data": {
      "text/plain": [
       "0       0.250\n",
       "1       0.500\n",
       "2       0.917\n",
       "3       1.000\n",
       "4       0.917\n",
       "         ... \n",
       "49991   0.667\n",
       "49992   0.750\n",
       "49993   0.667\n",
       "49995   0.250\n",
       "50000   0.833\n",
       "Name: monthOfRegistration, Length: 42772, dtype: float64"
      ]
     },
     "execution_count": 69,
     "metadata": {},
     "output_type": "execute_result"
    }
   ],
   "source": [
    "cars.loc[:,'monthOfRegistration']/12"
   ]
  },
  {
   "cell_type": "code",
   "execution_count": 70,
   "id": "47fbfd82",
   "metadata": {},
   "outputs": [],
   "source": [
    "cars['Age'] = (2023-cars['yearOfRegistration']) + (cars['monthOfRegistration'])"
   ]
  },
  {
   "cell_type": "raw",
   "id": "d3c29954",
   "metadata": {},
   "source": []
  },
  {
   "cell_type": "code",
   "execution_count": null,
   "id": "7c2a7e66",
   "metadata": {},
   "outputs": [],
   "source": []
  }
 ],
 "metadata": {
  "kernelspec": {
   "display_name": "Python 3 (ipykernel)",
   "language": "python",
   "name": "python3"
  },
  "language_info": {
   "codemirror_mode": {
    "name": "ipython",
    "version": 3
   },
   "file_extension": ".py",
   "mimetype": "text/x-python",
   "name": "python",
   "nbconvert_exporter": "python",
   "pygments_lexer": "ipython3",
   "version": "3.10.9"
  }
 },
 "nbformat": 4,
 "nbformat_minor": 5
}
