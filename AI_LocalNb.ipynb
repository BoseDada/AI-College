{
 "cells": [
  {
   "cell_type": "markdown",
   "id": "0c33a1ec",
   "metadata": {},
   "source": [
    "# Water-Jug Problem"
   ]
  },
  {
   "cell_type": "code",
   "execution_count": 1,
   "id": "6ad2c5ed",
   "metadata": {},
   "outputs": [
    {
     "name": "stdout",
     "output_type": "stream",
     "text": [
      "Enter amount for first jug = 4\n",
      "Enter amount for second jug = 3\n",
      "Water level in X(gallons) =  4\n",
      "Water level in Y(gallons) =  0\n",
      "\n",
      "\n",
      "Water level in X(gallons) =  1\n",
      "Water level in Y(gallons) =  3\n",
      "\n",
      "\n",
      "Water level in X(gallons) =  1\n",
      "Water level in Y(gallons) =  0\n",
      "\n",
      "\n",
      "Water level in X(gallons) =  0\n",
      "Water level in Y(gallons) =  1\n",
      "\n",
      "\n",
      "Water level in X(gallons) =  4\n",
      "Water level in Y(gallons) =  1\n",
      "\n",
      "\n",
      "Water level in X(gallons) =  2\n",
      "Water level in Y(gallons) =  3\n",
      "\n",
      "\n",
      "Water level in X(gallons) =  2\n",
      "Water level in Y(gallons) =  0\n"
     ]
    }
   ],
   "source": [
    "global wateramt1,wateramt2\n",
    "wateramt1 = int(input(\"Enter amount for first jug = \"))\n",
    "wateramt2 = int(input(\"Enter amount for second jug = \"))\n",
    "global x #4-gallon jug\n",
    "global y  #3-gallon jug\n",
    "x = 0\n",
    "y = 0\n",
    "def fill_4G():\n",
    "    global wateramt1,wateramt2,x,y\n",
    "    x = wateramt1\n",
    "    print(\"Water level in X(gallons) = \",x)\n",
    "    print(\"Water level in Y(gallons) = \",y)\n",
    "def fill_3G():\n",
    "    global wateramt1,wateramt2,x,y\n",
    "    y = wateramt2\n",
    "    print(\"Water level in X(gallons) = \",x)\n",
    "    print(\"Water level in Y(gallons) = \",y)\n",
    "def empty_4G():\n",
    "    global wateramt1,wateramt2,x,y\n",
    "    x = 0\n",
    "    print(\"Water level in X(gallons) = \",x)\n",
    "    print(\"Water level in Y(gallons) = \",y)\n",
    "def empty_3G():\n",
    "    global wateramt1,wateramt2,x,y\n",
    "    y = 0\n",
    "    print(\"Water level in X(gallons) = \",x)\n",
    "    print(\"Water level in Y(gallons) = \",y)\n",
    "def transfer_4to3():\n",
    "    global wateramt1,wateramt2,x,y\n",
    "    if (y == 0 and x >= wateramt2):\n",
    "        y = wateramt2\n",
    "        x = x - wateramt2\n",
    "    elif (y == 0 and x < wateramt2):\n",
    "        y = x\n",
    "        x = 0\n",
    "    elif (y > 0 and y < wateramt2 and (wateramt2-y)<x): \n",
    "        x = x-(wateramt2-y)\n",
    "        y = y+(wateramt2-y)\n",
    "    elif (y > 0 and y < wateramt2 and (wateramt2-y)>x):\n",
    "        y = y + x\n",
    "        x = 0\n",
    "    print(\"\\n\")\n",
    "    print(\"Water level in X(gallons) = \",x)\n",
    "    print(\"Water level in Y(gallons) = \",y)\n",
    "    print(\"\\n\")\n",
    "def transfer_3to4():\n",
    "    global wateramt1,wateramt2,x,y\n",
    "    if (x == 0 and y == wateramt2):\n",
    "        x = wateramt2\n",
    "        y = 0\n",
    "    elif (x == 0 and y < wateramt2):\n",
    "        x = y\n",
    "        y = 0\n",
    "    elif (x > 0 and x + y <= wateramt1):\n",
    "        x = x+y\n",
    "        y = 0\n",
    "    elif (x > 0 and x + y > wateramt1):\n",
    "        y = y - (wateramt1-x)\n",
    "        x = wateramt1\n",
    "    print(\"\\n\")\n",
    "    print(\"Water level in X(gallons) = \",x)\n",
    "    print(\"Water level in Y(gallons) = \",y)\n",
    "    print(\"\\n\")\n",
    "\n",
    "while (x != 2):\n",
    "    if (x == 0):\n",
    "        fill_4G()\n",
    "    if (y == wateramt2):\n",
    "        empty_3G()\n",
    "    transfer_4to3()\n",
    "empty_3G()\n"
   ]
  },
  {
   "cell_type": "markdown",
   "id": "0212508d",
   "metadata": {},
   "source": [
    "# Recursive-Maze Problem"
   ]
  },
  {
   "cell_type": "code",
   "execution_count": 65,
   "id": "2d0195ce",
   "metadata": {},
   "outputs": [
    {
     "name": "stdout",
     "output_type": "stream",
     "text": [
      "1 1 0 1 1 1 0 1 \n",
      "1 1 1 0 1 1 0 1 \n",
      "0 1 1 0 0 0 1 1 \n",
      "1 0 1 1 1 0 1 0 \n",
      "1 1 1 0 1 1 1 0 \n",
      "1 1 0 1 0 1 0 1 \n",
      "0 1 0 1 0 1 1 0 \n",
      "1 0 1 1 1 0 1 1 \n"
     ]
    }
   ],
   "source": [
    "maze = [[1,1,0,1,1,1,0,1],\n",
    "        [1,1,1,0,1,1,0,1],\n",
    "        [0,1,1,0,0,0,1,1],\n",
    "        [1,0,1,1,1,0,1,0],\n",
    "        [1,1,1,0,1,1,1,0],\n",
    "        [1,1,0,1,0,1,0,1],\n",
    "        [0,1,0,1,0,1,1,0],\n",
    "        [1,0,1,1,1,0,1,1]]\n",
    "\n",
    "for i in maze:\n",
    "    for j in i:\n",
    "        print(j, end = ' ')\n",
    "    print()"
   ]
  },
  {
   "cell_type": "code",
   "execution_count": 66,
   "id": "3d5bf122",
   "metadata": {},
   "outputs": [],
   "source": [
    "start = (0,0)\n",
    "end = (7,7)"
   ]
  },
  {
   "cell_type": "code",
   "execution_count": 67,
   "id": "ad471012",
   "metadata": {},
   "outputs": [],
   "source": [
    "def solve_maze(maze, start, end):\n",
    "    visited = [[False for i in range(8)] for i in range(8)]\n",
    "    solution = []\n",
    "    def is_valid_move(x, y):\n",
    "        return 0 <= x < 8 and 0 <= y < 8 and maze[x][y] == 1 and not visited[x][y]\n",
    "\n",
    "    def dfs(x, y):\n",
    "        if x == end[0] and y == end[1]:\n",
    "            solution.append((x, y))\n",
    "            return True\n",
    "\n",
    "        visited[x][y] = True\n",
    "        solution.append((x, y))\n",
    "\n",
    "        # Explore all possible moves: right, down, left, up\n",
    "        moves = [(0, 1), (1, 0), (0, -1), (-1, 0)]\n",
    "\n",
    "        for move in moves:\n",
    "            next_x, next_y = x + move[0], y + move[1]\n",
    "            if is_valid_move(next_x, next_y) and dfs(next_x, next_y):\n",
    "                return True\n",
    "\n",
    "        # Backtrack if no valid move leads to the end\n",
    "        solution.pop()\n",
    "        return False\n",
    "\n",
    "    if dfs(start[0], start[1]):\n",
    "        print(\"Solution found:\")\n",
    "        for step in solution:\n",
    "            print(step, end = \" \")\n",
    "            maze[step[0]][step[1]] = \"*\"\n",
    "    else:\n",
    "        print(\"No solution found.\")"
   ]
  },
  {
   "cell_type": "code",
   "execution_count": 68,
   "id": "c3972daa",
   "metadata": {},
   "outputs": [
    {
     "name": "stdout",
     "output_type": "stream",
     "text": [
      "Solution found:\n",
      "(0, 0) (0, 1) (1, 1) (1, 2) (2, 2) (3, 2) (3, 3) (3, 4) (4, 4) (4, 5) (5, 5) (6, 5) (6, 6) (7, 6) (7, 7) "
     ]
    }
   ],
   "source": [
    "solve_maze(maze,start,end)"
   ]
  },
  {
   "cell_type": "code",
   "execution_count": 69,
   "id": "1cee312f",
   "metadata": {},
   "outputs": [
    {
     "name": "stdout",
     "output_type": "stream",
     "text": [
      "* * 0 1 1 1 0 1 \n",
      "1 * * 0 1 1 0 1 \n",
      "0 1 * 0 0 0 1 1 \n",
      "1 0 * * * 0 1 0 \n",
      "1 1 1 0 * * 1 0 \n",
      "1 1 0 1 0 * 0 1 \n",
      "0 1 0 1 0 * * 0 \n",
      "1 0 1 1 1 0 * * \n"
     ]
    }
   ],
   "source": [
    "for i in maze:\n",
    "    for j in i:\n",
    "        print(j, end = \" \")\n",
    "    print()"
   ]
  },
  {
   "cell_type": "markdown",
   "id": "ddcafb2c",
   "metadata": {},
   "source": [
    "# Number Guesser"
   ]
  },
  {
   "cell_type": "code",
   "execution_count": 71,
   "id": "4e92494f",
   "metadata": {},
   "outputs": [
    {
     "name": "stdout",
     "output_type": "stream",
     "text": [
      "Welcome to the Number Guesser Game!\n",
      "I have selected a number between 1 and 100. Can you guess it?\n",
      "Enter your guess: 30\n",
      "Too high! Try again.\n",
      "Enter your guess: 20\n",
      "Too high! Try again.\n",
      "Enter your guess: 10\n",
      "Too high! Try again.\n",
      "Enter your guess: 4\n",
      "Too low! Try again.\n",
      "Enter your guess: 7\n",
      "Too low! Try again.\n",
      "Enter your guess: 9\n",
      "Too high! Try again.\n",
      "Enter your guess: 8\n",
      "Congratulations! You guessed the number 8 in 7 attempts.\n"
     ]
    }
   ],
   "source": [
    "import random\n",
    "\n",
    "def number_guesser():\n",
    "    print(\"Welcome to the Number Guesser Game!\")\n",
    "    print(\"I have selected a number between 1 and 100. Can you guess it?\")\n",
    "\n",
    "    secret_number = random.randint(1, 100)\n",
    "\n",
    "    attempts = 0\n",
    "    while True:\n",
    "        guess = int(input(\"Enter your guess: \"))\n",
    "        attempts += 1\n",
    "\n",
    "        if guess == secret_number:\n",
    "            print(f\"Congratulations! You guessed the number {secret_number} in {attempts} attempts.\")\n",
    "            break\n",
    "        elif guess < secret_number:\n",
    "            print(\"Too low! Try again.\")\n",
    "        else:\n",
    "            print(\"Too high! Try again.\")\n",
    "\n",
    "number_guesser()"
   ]
  },
  {
   "cell_type": "markdown",
   "id": "72ec17cb",
   "metadata": {},
   "source": [
    "# 8 Puzzle using Best First Search"
   ]
  },
  {
   "cell_type": "code",
   "execution_count": 1,
   "id": "9bd25b4b",
   "metadata": {},
   "outputs": [],
   "source": [
    "import heapq\n",
    "\n",
    "class PuzzleNode:\n",
    "    def __init__(self, puzzle_state, parent=None, move=None):\n",
    "        self.puzzle_state = puzzle_state\n",
    "        self.parent = parent\n",
    "        self.move = move\n",
    "        self.cost = self.calculate_cost()\n",
    "\n",
    "    def calculate_cost(self):\n",
    "        goal_state = [[1, 2, 3], [4, 5, 6], [7, 8, 0]]\n",
    "        cost = 0\n",
    "        for i in range(3):\n",
    "            for j in range(3):\n",
    "                if self.puzzle_state[i][j] != 0:\n",
    "                    row, col = divmod(self.puzzle_state[i][j] - 1, 3)\n",
    "                    cost += abs(row - i) + abs(col - j)\n",
    "        return cost\n",
    "\n",
    "    def __lt__(self, other):\n",
    "        return self.cost < other.cost\n",
    "\n",
    "def get_neighbors(node):\n",
    "    neighbors = []\n",
    "    directions = [(0, 1), (1, 0), (0, -1), (-1, 0)]\n",
    "    for i in range(3):\n",
    "        for j in range(3):\n",
    "            if node.puzzle_state[i][j] == 0:\n",
    "                zero_row, zero_col = i, j\n",
    "                break\n",
    "\n",
    "    for direction in directions:\n",
    "        new_row, new_col = zero_row + direction[0], zero_col + direction[1]\n",
    "        if 0 <= new_row < 3 and 0 <= new_col < 3:\n",
    "            new_state = [row[:] for row in node.puzzle_state]\n",
    "            new_state[zero_row][zero_col], new_state[new_row][new_col] = new_state[new_row][new_col], new_state[zero_row][zero_col]\n",
    "            neighbors.append(PuzzleNode(new_state, node, direction))\n",
    "    return neighbors\n",
    "\n",
    "def reconstruct_path(node):\n",
    "    path = []\n",
    "    while node:\n",
    "        path.append(node.puzzle_state)\n",
    "        node = node.parent\n",
    "    return path[::-1]\n",
    "\n",
    "def best_first_search(initial_state):\n",
    "    heap = []\n",
    "    visited_states = set()\n",
    "    heapq.heappush(heap, initial_state)\n",
    "\n",
    "    while heap:\n",
    "        current_node = heapq.heappop(heap)\n",
    "        visited_states.add(tuple(map(tuple, current_node.puzzle_state)))\n",
    "\n",
    "        if current_node.puzzle_state == [[1, 2, 3], [4, 5, 6], [7, 8, 0]]:\n",
    "            return reconstruct_path(current_node)\n",
    "\n",
    "        for neighbor in get_neighbors(current_node):\n",
    "            if tuple(map(tuple, neighbor.puzzle_state)) not in visited_states:\n",
    "                heapq.heappush(heap, neighbor)\n",
    "                visited_states.add(tuple(map(tuple, neighbor.puzzle_state)))\n",
    "\n",
    "    return None"
   ]
  },
  {
   "cell_type": "code",
   "execution_count": 2,
   "id": "491c7057",
   "metadata": {},
   "outputs": [
    {
     "name": "stdout",
     "output_type": "stream",
     "text": [
      "Solution found:\n",
      "Step 1:\n",
      "[1, 2, 3]\n",
      "[4, 0, 5]\n",
      "[7, 8, 6]\n",
      "\n",
      "Step 2:\n",
      "[1, 2, 3]\n",
      "[4, 5, 0]\n",
      "[7, 8, 6]\n",
      "\n",
      "Step 3:\n",
      "[1, 2, 3]\n",
      "[4, 5, 6]\n",
      "[7, 8, 0]\n",
      "\n"
     ]
    }
   ],
   "source": [
    "initial_state = PuzzleNode([[1, 2, 3], [4, 0, 5], [7, 8, 6]])\n",
    "solution = best_first_search(initial_state)\n",
    "\n",
    "if solution:\n",
    "    print(\"Solution found:\")\n",
    "    for i, state in enumerate(solution):\n",
    "        print(f\"Step {i + 1}:\")\n",
    "        for row in state:\n",
    "            print(row)\n",
    "        print()\n",
    "else:\n",
    "    print(\"No solution found.\")"
   ]
  },
  {
   "cell_type": "markdown",
   "id": "6c8c5108",
   "metadata": {},
   "source": [
    "# 8 Puzzle using A*"
   ]
  },
  {
   "cell_type": "code",
   "execution_count": 3,
   "id": "74069bf6",
   "metadata": {},
   "outputs": [],
   "source": [
    "class PuzzleNode:\n",
    "    def __init__(self, puzzle_state, parent=None, move=None, g=0):\n",
    "        self.puzzle_state = puzzle_state\n",
    "        self.parent = parent\n",
    "        self.move = move\n",
    "        self.g = g\n",
    "        self.h = self.calculate_heuristic()\n",
    "        self.f = self.g + self.h\n",
    "\n",
    "    def calculate_heuristic(self):\n",
    "        goal_state = [[1, 2, 3], [4, 5, 6], [7, 8, 0]]\n",
    "        h = 0\n",
    "        for i in range(3):\n",
    "            for j in range(3):\n",
    "                if self.puzzle_state[i][j] != 0:\n",
    "                    row, col = divmod(self.puzzle_state[i][j] - 1, 3)\n",
    "                    h += abs(row - i) + abs(col - j)\n",
    "        return h\n",
    "\n",
    "    def __lt__(self, other):\n",
    "        return self.f < other.f\n",
    "\n",
    "    def __le__(self, other):\n",
    "        return self.f <= other.f\n",
    "\n",
    "    def __gt__(self, other):\n",
    "        return self.f > other.f\n",
    "\n",
    "    def __ge__(self, other):\n",
    "        return self.f >= other.f\n",
    "\n",
    "    def __eq__(self, other):\n",
    "        return self.f == other.f\n",
    "\n",
    "    def __ne__(self, other):\n",
    "        return self.f != other.f\n",
    "\n",
    "def get_neighbors(node):\n",
    "    neighbors = []\n",
    "    directions = [(0, 1), (1, 0), (0, -1), (-1, 0)]\n",
    "    for i in range(3):\n",
    "        for j in range(3):\n",
    "            if node.puzzle_state[i][j] == 0:\n",
    "                zero_row, zero_col = i, j\n",
    "                break\n",
    "\n",
    "    for direction in directions:\n",
    "        new_row, new_col = zero_row + direction[0], zero_col + direction[1]\n",
    "        if 0 <= new_row < 3 and 0 <= new_col < 3:\n",
    "            new_state = [row[:] for row in node.puzzle_state]\n",
    "            new_state[zero_row][zero_col], new_state[new_row][new_col] = new_state[new_row][new_col], new_state[zero_row][zero_col]\n",
    "            move = (new_row - zero_row, new_col - zero_col)\n",
    "            neighbors.append(PuzzleNode(new_state, node, move, node.g + 1))\n",
    "    return neighbors\n",
    "\n",
    "def reconstruct_path(node):\n",
    "    path = []\n",
    "    while node:\n",
    "        path.append((node.move, node.puzzle_state))\n",
    "        node = node.parent\n",
    "    return path[::-1]\n",
    "\n",
    "def a_star_search(initial_state):\n",
    "    open_list = [initial_state]\n",
    "    closed_set = set()\n",
    "\n",
    "    while open_list:\n",
    "        open_list.sort(key=lambda x: x.f)\n",
    "        current_node = open_list.pop(0)\n",
    "\n",
    "        if current_node.puzzle_state == [[1, 2, 3], [4, 5, 6], [7, 8, 0]]:\n",
    "            return reconstruct_path(current_node)\n",
    "\n",
    "        closed_set.add(tuple(map(tuple, current_node.puzzle_state)))\n",
    "\n",
    "        for neighbor in get_neighbors(current_node):\n",
    "            if tuple(map(tuple, neighbor.puzzle_state)) not in closed_set:\n",
    "                open_list.append(neighbor)\n",
    "\n",
    "    return None"
   ]
  },
  {
   "cell_type": "code",
   "execution_count": 4,
   "id": "c3a55891",
   "metadata": {},
   "outputs": [],
   "source": [
    "initial_state = PuzzleNode([[1, 2, 3], [4, 0, 5], [7, 8, 6]])\n",
    "solution = a_star_search(initial_state)"
   ]
  },
  {
   "cell_type": "code",
   "execution_count": 5,
   "id": "139e0ce7",
   "metadata": {},
   "outputs": [
    {
     "name": "stdout",
     "output_type": "stream",
     "text": [
      "Solution found:\n",
      "Step 1: Move None\n",
      "[1, 2, 3]\n",
      "[4, 0, 5]\n",
      "[7, 8, 6]\n",
      "\n",
      "Step 2: Move (0, 1)\n",
      "[1, 2, 3]\n",
      "[4, 5, 0]\n",
      "[7, 8, 6]\n",
      "\n",
      "Step 3: Move (1, 0)\n",
      "[1, 2, 3]\n",
      "[4, 5, 6]\n",
      "[7, 8, 0]\n",
      "\n"
     ]
    }
   ],
   "source": [
    "if solution:\n",
    "    print(\"Solution found:\")\n",
    "    for i, (move, state) in enumerate(solution):\n",
    "        print(f\"Step {i + 1}: Move {move}\")\n",
    "        for row in state:\n",
    "            print(row)\n",
    "        print()\n",
    "else:\n",
    "    print(\"No solution found\")"
   ]
  },
  {
   "cell_type": "markdown",
   "id": "536a42e3",
   "metadata": {},
   "source": [
    "# Crypt-Arithmetic Problem"
   ]
  },
  {
   "cell_type": "code",
   "execution_count": 2,
   "id": "5ba8af5a",
   "metadata": {},
   "outputs": [
    {
     "name": "stdout",
     "output_type": "stream",
     "text": [
      "2461 + 2455 = 4916 (mapping: {'g': 0, 'l': 5, 'm': 9, 'a': 4, 'e': 1, 'b': 2, 's': 6})\n",
      "2483 + 2455 = 4938 (mapping: {'g': 0, 'l': 5, 'm': 9, 'a': 4, 'e': 3, 'b': 2, 's': 8})\n",
      "7483 + 7455 = 14938 (mapping: {'g': 1, 'l': 5, 'm': 9, 'a': 4, 'e': 3, 'b': 7, 's': 8})\n"
     ]
    }
   ],
   "source": [
    "import itertools\n",
    "\n",
    "def get_value(word, substitution):\n",
    "    s = 0\n",
    "    factor = 1\n",
    "    for letter in reversed(word):\n",
    "        s += factor * substitution[letter]\n",
    "        factor *= 10\n",
    "    return s\n",
    "\n",
    "def solve2(equation):\n",
    "    left, right = equation.lower().replace(' ', '').split('=')\n",
    "    left = left.split('+')\n",
    "    letters = set(right)\n",
    "    for word in left:\n",
    "        for letter in word:\n",
    "            letters.add(letter)\n",
    "    letters = list(letters)\n",
    "\n",
    "    digits = range(10)\n",
    "    for perm in itertools.permutations(digits, len(letters)):\n",
    "        sol = dict(zip(letters, perm))\n",
    "\n",
    "        if sum(get_value(word, sol) for word in left) == get_value(right, sol):\n",
    "            print(' + '.join(str(get_value(word, sol)) for word in left) + \" = {} (mapping: {})\".format(get_value(right, sol), sol))\n",
    "\n",
    "if __name__ == '__main__':\n",
    "    solve2('BASE + BALL = GAMES')"
   ]
  },
  {
   "cell_type": "markdown",
   "id": "febe5352",
   "metadata": {},
   "source": [
    "# Graph Colouring"
   ]
  },
  {
   "cell_type": "code",
   "execution_count": 7,
   "id": "b34ce986",
   "metadata": {},
   "outputs": [
    {
     "name": "stdout",
     "output_type": "stream",
     "text": [
      "Vertex \t Color\n",
      "0 \t 0\n",
      "1 \t 1\n",
      "2 \t 0\n",
      "3 \t 1\n",
      "4 \t 0\n",
      "5 \t 2\n"
     ]
    }
   ],
   "source": [
    "class Graph:\n",
    "    def __init__(self, vertices):\n",
    "        self.vertices = vertices\n",
    "        self.graph = [[0] * vertices for _ in range(vertices)]\n",
    "\n",
    "    def add_edge(self, u, v):\n",
    "        self.graph[u][v] = 1\n",
    "        self.graph[v][u] = 1\n",
    "\n",
    "    def greedy_coloring(self):\n",
    "        result = [-1] * self.vertices\n",
    "        result[0] = 0\n",
    "\n",
    "        def is_safe(v, c):\n",
    "            for i in range(self.vertices):\n",
    "                if self.graph[v][i] == 1 and result[i] == c:\n",
    "                    return False\n",
    "            return True\n",
    "\n",
    "        for v in range(1, self.vertices):\n",
    "            for c in range(self.vertices):\n",
    "                if is_safe(v, c):\n",
    "                    result[v] = c\n",
    "                    break\n",
    "\n",
    "        return result\n",
    "\n",
    "if __name__ == \"__main__\":\n",
    "    g = Graph(6)\n",
    "    g.add_edge(0, 1)\n",
    "    g.add_edge(1, 4)\n",
    "    g.add_edge(2, 5)\n",
    "    g.add_edge(3, 2)\n",
    "    g.add_edge(4, 5)\n",
    "    g.add_edge(5, 3)\n",
    "\n",
    "    colors = g.greedy_coloring()\n",
    "    print(\"Vertex \\t Color\")\n",
    "    for i in range(len(colors)):\n",
    "        print(f\"{i} \\t {colors[i]}\")"
   ]
  },
  {
   "cell_type": "markdown",
   "id": "4b970523",
   "metadata": {},
   "source": [
    "# Min-Max Algorithm"
   ]
  },
  {
   "cell_type": "code",
   "execution_count": 8,
   "id": "e8d3cdc4",
   "metadata": {},
   "outputs": [
    {
     "name": "stdout",
     "output_type": "stream",
     "text": [
      "Best value: 5\n"
     ]
    }
   ],
   "source": [
    "def max_min(depth, node_index, maximizing_player, values, alpha, beta):\n",
    "    if depth == 0:\n",
    "        return values[node_index]\n",
    "\n",
    "    if maximizing_player:\n",
    "        best_value = -float(\"inf\")\n",
    "        for i in range(0, 2):\n",
    "            child_value = max_min(depth - 1, 2 * node_index + i, False, values, alpha, beta)\n",
    "            best_value = max(best_value, child_value)\n",
    "            alpha = max(alpha, best_value)\n",
    "            if beta <= alpha:\n",
    "                break\n",
    "        return best_value\n",
    "    else:\n",
    "        best_value = float(\"inf\")\n",
    "        for i in range(0, 2):\n",
    "            child_value = max_min(depth - 1, 2 * node_index + i, True, values, alpha, beta)\n",
    "            best_value = min(best_value, child_value)\n",
    "            beta = min(beta, best_value)\n",
    "            if beta <= alpha:\n",
    "                break\n",
    "        return best_value\n",
    "\n",
    "# Example usage\n",
    "values = [3, 5, 6, 9, 1, 2, 0, -1]\n",
    "best_value = max_min(3, 0, True, values, -float(\"inf\"), float(\"inf\"))\n",
    "print(\"Best value:\", best_value)\n"
   ]
  },
  {
   "cell_type": "markdown",
   "id": "40a0acc6",
   "metadata": {},
   "source": [
    "# Fractional Knapsack using Greedy Approach"
   ]
  },
  {
   "cell_type": "code",
   "execution_count": 9,
   "id": "37d50bfe",
   "metadata": {},
   "outputs": [],
   "source": [
    "class Item:\n",
    "    def __init__(self, weight, value):\n",
    "        self.weight = weight\n",
    "        self.value = value\n",
    "        self.cost = value / weight\n",
    "\n",
    "def fractional_knapsack(items, capacity):\n",
    "    items.sort(key=lambda x: x.cost, reverse=True)\n",
    "\n",
    "    total_value = 0\n",
    "    knapsack = []\n",
    "\n",
    "    for item in items:\n",
    "        if capacity >= item.weight:\n",
    "            knapsack.append((item.weight, item.value))\n",
    "            total_value += item.value\n",
    "            capacity -= item.weight\n",
    "        else:\n",
    "            fraction = capacity / item.weight\n",
    "            knapsack.append((capacity, fraction * item.value))\n",
    "            total_value += fraction * item.value\n",
    "            break\n",
    "\n",
    "    return total_value, knapsack"
   ]
  },
  {
   "cell_type": "code",
   "execution_count": 10,
   "id": "22986e7c",
   "metadata": {},
   "outputs": [],
   "source": [
    "items = [Item(10, 60), Item(20, 100), Item(30, 120)]\n",
    "capacity = 50\n",
    "max_value, knapsack = fractional_knapsack(items, capacity)"
   ]
  },
  {
   "cell_type": "code",
   "execution_count": 11,
   "id": "7cd6ccf9",
   "metadata": {},
   "outputs": [
    {
     "name": "stdout",
     "output_type": "stream",
     "text": [
      "Maximum value: 240.0\n",
      "Items selected:\n",
      "Weight: 10 Value: 60\n",
      "Weight: 20 Value: 100\n",
      "Weight: 20 Value: 80.0\n"
     ]
    }
   ],
   "source": [
    "print(\"Maximum value:\", max_value)\n",
    "print(\"Items selected:\")\n",
    "for weight, value in knapsack:\n",
    "    print(\"Weight:\", weight, \"Value:\", value)"
   ]
  },
  {
   "cell_type": "markdown",
   "id": "9618a9a2",
   "metadata": {},
   "source": [
    "# 0/1 Knapsack using Dynamic Programming"
   ]
  },
  {
   "cell_type": "code",
   "execution_count": 12,
   "id": "7a823910",
   "metadata": {},
   "outputs": [],
   "source": [
    "def knapsack(weights, values, capacity):\n",
    "    n = len(weights)\n",
    "    dp = [[0] * (capacity + 1) for _ in range(n + 1)]\n",
    "\n",
    "    for i in range(1, n + 1):\n",
    "        for w in range(1, capacity + 1):\n",
    "            if weights[i - 1] <= w:\n",
    "                dp[i][w] = max(dp[i - 1][w], values[i - 1] + dp[i - 1][w - weights[i - 1]])\n",
    "            else:\n",
    "                dp[i][w] = dp[i - 1][w]\n",
    "\n",
    "    selected_items = []\n",
    "    w = capacity\n",
    "    for i in range(n, 0, -1):\n",
    "        if dp[i][w] != dp[i - 1][w]:\n",
    "            selected_items.append(i - 1)\n",
    "            w -= weights[i - 1]\n",
    "\n",
    "    return dp[n][capacity], selected_items"
   ]
  },
  {
   "cell_type": "code",
   "execution_count": 13,
   "id": "757afc6e",
   "metadata": {},
   "outputs": [],
   "source": [
    "weights = [10, 20, 30]\n",
    "values = [60, 100, 120]\n",
    "capacity = 50\n",
    "max_value, selected_items = knapsack(weights, values, capacity)"
   ]
  },
  {
   "cell_type": "code",
   "execution_count": 14,
   "id": "4c2f622a",
   "metadata": {},
   "outputs": [
    {
     "name": "stdout",
     "output_type": "stream",
     "text": [
      "Maximum value: 220\n",
      "Selected items: [2, 1]\n"
     ]
    }
   ],
   "source": [
    "print(\"Maximum value:\", max_value)\n",
    "print(\"Selected items:\", selected_items)"
   ]
  },
  {
   "cell_type": "markdown",
   "id": "790cae76",
   "metadata": {},
   "source": [
    "# Tic Tac Toe using min-max"
   ]
  },
  {
   "cell_type": "code",
   "execution_count": 15,
   "id": "a74e65de",
   "metadata": {},
   "outputs": [
    {
     "name": "stdout",
     "output_type": "stream",
     "text": [
      " | | \n",
      "-----\n",
      " | | \n",
      "-----\n",
      " | | \n",
      "-----\n",
      "Enter row: 1\n",
      "Enter column: 1\n",
      "O| | \n",
      "-----\n",
      " |X| \n",
      "-----\n",
      " | | \n",
      "-----\n",
      "Enter row: 2\n",
      "Enter column: 0\n",
      "O| |O\n",
      "-----\n",
      " |X| \n",
      "-----\n",
      "X| | \n",
      "-----\n",
      "Enter row: 0\n",
      "Enter column: 1\n",
      "O|X|O\n",
      "-----\n",
      "O|X| \n",
      "-----\n",
      "X| | \n",
      "-----\n",
      "Enter row: 2\n",
      "Enter column: 1\n",
      "O|X|O\n",
      "-----\n",
      "O|X| \n",
      "-----\n",
      "X|X| \n",
      "-----\n",
      "You win!\n"
     ]
    }
   ],
   "source": [
    "import math\n",
    "\n",
    "# Represents the Tic-Tac-Toe board\n",
    "class Board:\n",
    "    def __init__(self):\n",
    "        self.board = [[' ' for _ in range(3)] for _ in range(3)]\n",
    "\n",
    "    # Prints the board\n",
    "    def print_board(self):\n",
    "        for row in self.board:\n",
    "            print(\"|\".join(row))\n",
    "            print(\"-\" * 5)\n",
    "\n",
    "    # Checks if the game is over\n",
    "    def game_over(self):\n",
    "        for row in self.board:\n",
    "            if row.count('X') == 3 or row.count('O') == 3:\n",
    "                return True\n",
    "        for col in range(3):\n",
    "            if self.board[0][col] == self.board[1][col] == self.board[2][col] and self.board[0][col] != ' ':\n",
    "                return True\n",
    "        if self.board[0][0] == self.board[1][1] == self.board[2][2] and self.board[0][0] != ' ':\n",
    "            return True\n",
    "        if self.board[0][2] == self.board[1][1] == self.board[2][0] and self.board[0][2] != ' ':\n",
    "            return True\n",
    "        return False\n",
    "\n",
    "    # Gets empty cells on the board\n",
    "    def get_empty_cells(self):\n",
    "        return [(i, j) for i in range(3) for j in range(3) if self.board[i][j] == ' ']\n",
    "\n",
    "    # Makes a move on the board\n",
    "    def make_move(self, row, col, player):\n",
    "        self.board[row][col] = player\n",
    "\n",
    "    # Undo the move on the board\n",
    "    def undo_move(self, row, col):\n",
    "        self.board[row][col] = ' '\n",
    "\n",
    "# Minimax algorithm with alpha-beta pruning\n",
    "def minimax(board, depth, is_maximizing_player, alpha, beta):\n",
    "    if board.game_over() or depth == 0:\n",
    "        if board.game_over():\n",
    "            if is_maximizing_player:\n",
    "                return -1\n",
    "            else:\n",
    "                return 1\n",
    "        else:\n",
    "            return 0\n",
    "\n",
    "    if is_maximizing_player:\n",
    "        max_eval = -math.inf\n",
    "        for row, col in board.get_empty_cells():\n",
    "            board.make_move(row, col, 'O')\n",
    "            eval = minimax(board, depth - 1, False, alpha, beta)\n",
    "            board.undo_move(row, col)\n",
    "            max_eval = max(max_eval, eval)\n",
    "            alpha = max(alpha, eval)\n",
    "            if beta <= alpha:\n",
    "                break\n",
    "        return max_eval\n",
    "    else:\n",
    "        min_eval = math.inf\n",
    "        for row, col in board.get_empty_cells():\n",
    "            board.make_move(row, col, 'X')\n",
    "            eval = minimax(board, depth - 1, True, alpha, beta)\n",
    "            board.undo_move(row, col)\n",
    "            min_eval = min(min_eval, eval)\n",
    "            beta = min(beta, eval)\n",
    "            if beta <= alpha:\n",
    "                break\n",
    "        return min_eval\n",
    "\n",
    "# Function to find the best move using Minimax\n",
    "def find_best_move(board):\n",
    "    best_move = (-1, -1)\n",
    "    best_eval = -math.inf\n",
    "    for row, col in board.get_empty_cells():\n",
    "        board.make_move(row, col, 'O')\n",
    "        eval = minimax(board, 5, False, -math.inf, math.inf)  # Depth is set to 5\n",
    "        board.undo_move(row, col)\n",
    "        if eval > best_eval:\n",
    "            best_eval = eval\n",
    "            best_move = (row, col)\n",
    "    return best_move\n",
    "\n",
    "# Main function to play Tic-Tac-Toe\n",
    "def play_tic_tac_toe():\n",
    "    board = Board()\n",
    "    while not board.game_over():\n",
    "        board.print_board()\n",
    "        row = int(input(\"Enter row: \"))\n",
    "        col = int(input(\"Enter column: \"))\n",
    "        board.make_move(row, col, 'X')\n",
    "        if board.game_over():\n",
    "            break\n",
    "        best_move = find_best_move(board)\n",
    "        board.make_move(best_move[0], best_move[1], 'O')\n",
    "    board.print_board()\n",
    "    if 'X' in board.board[0]:\n",
    "        print(\"You win!\")\n",
    "    elif 'O' in board.board[0]:\n",
    "        print(\"You lose!\")\n",
    "    else:\n",
    "        print(\"It's a draw!\")\n",
    "\n",
    "\n",
    "# Play Tic-Tac-Toe\n",
    "play_tic_tac_toe()"
   ]
  },
  {
   "cell_type": "markdown",
   "id": "61962730",
   "metadata": {},
   "source": [
    "# Min-Max Algorithm"
   ]
  },
  {
   "cell_type": "code",
   "execution_count": 1,
   "id": "ce040bab",
   "metadata": {},
   "outputs": [
    {
     "name": "stdout",
     "output_type": "stream",
     "text": [
      "The optimal value is : 12\n"
     ]
    }
   ],
   "source": [
    "import math\n",
    " \n",
    "def minimax (curDepth, nodeIndex,\n",
    "             maxTurn, scores, \n",
    "             targetDepth):\n",
    " \n",
    "    # base case : targetDepth reached\n",
    "    if (curDepth == targetDepth): \n",
    "        return scores[nodeIndex]\n",
    "     \n",
    "    if (maxTurn):\n",
    "        return max(minimax(curDepth + 1, nodeIndex * 2, \n",
    "                    False, scores, targetDepth), \n",
    "                   minimax(curDepth + 1, nodeIndex * 2 + 1, \n",
    "                    False, scores, targetDepth))\n",
    "     \n",
    "    else:\n",
    "        return min(minimax(curDepth + 1, nodeIndex * 2, \n",
    "                     True, scores, targetDepth), \n",
    "                   minimax(curDepth + 1, nodeIndex * 2 + 1, \n",
    "                     True, scores, targetDepth))\n",
    "     \n",
    "# Driver code\n",
    "scores = [3, 5, 2, 9, 12, 5, 23, 23]\n",
    " \n",
    "treeDepth = math.log(len(scores), 2)\n",
    " \n",
    "print(\"The optimal value is : \", end = \"\")\n",
    "print(minimax(0, 0, True, scores, treeDepth))"
   ]
  },
  {
   "cell_type": "markdown",
   "id": "f5a037e5",
   "metadata": {},
   "source": [
    "# Alpha-Beta Pruning"
   ]
  },
  {
   "cell_type": "code",
   "execution_count": 2,
   "id": "68385084",
   "metadata": {},
   "outputs": [
    {
     "name": "stdout",
     "output_type": "stream",
     "text": [
      "The optimal value is: 5\n"
     ]
    }
   ],
   "source": [
    "# Initial values of Alpha and Beta\n",
    "MAX = 1000\n",
    "MIN = -1000\n",
    "\n",
    "# Returns optimal value for current player\n",
    "def alpha_beta_pruning(depth, nodeIndex, maximizingPlayer, values, alpha, beta):\n",
    "    # Terminating condition - leaf node is reached\n",
    "    if depth == 3:\n",
    "        return values[nodeIndex]\n",
    "    \n",
    "    if maximizingPlayer:\n",
    "        best = MIN\n",
    "        for i in range(0, 2):\n",
    "            val = alpha_beta_pruning(depth + 1, nodeIndex * 2 + i, False, values, alpha, beta)\n",
    "            best = max(best, val)\n",
    "            alpha = max(alpha, best)\n",
    "            if beta <= alpha:\n",
    "                break\n",
    "        return best\n",
    "    else:\n",
    "        best = MAX\n",
    "        for i in range(0, 2):\n",
    "            val = alpha_beta_pruning(depth + 1, nodeIndex * 2 + i, True, values, alpha, beta)\n",
    "            best = min(best, val)\n",
    "            beta = min(beta, best)\n",
    "            if beta <= alpha:\n",
    "                break\n",
    "        return best\n",
    "\n",
    "# Driver code\n",
    "if __name__ == \"__main__\":\n",
    "    values = [3, 5, 6, 9, 1, 2, 0, -1]\n",
    "    print(\"The optimal value is:\", alpha_beta_pruning(0, 0, True, values, MIN, MAX))"
   ]
  },
  {
   "cell_type": "markdown",
   "id": "691c4a58",
   "metadata": {},
   "source": [
    "# NLP-Tokenisation"
   ]
  },
  {
   "cell_type": "code",
   "execution_count": 4,
   "id": "7d688f4d",
   "metadata": {},
   "outputs": [
    {
     "name": "stderr",
     "output_type": "stream",
     "text": [
      "[nltk_data] Downloading package punkt to /Users/adyotbose/nltk_data...\n",
      "[nltk_data]   Package punkt is already up-to-date!\n",
      "[nltk_data] Downloading package wordnet to\n",
      "[nltk_data]     /Users/adyotbose/nltk_data...\n",
      "[nltk_data]   Package wordnet is already up-to-date!\n",
      "[nltk_data] Downloading package stopwords to\n",
      "[nltk_data]     /Users/adyotbose/nltk_data...\n",
      "[nltk_data]   Package stopwords is already up-to-date!\n",
      "[nltk_data] Downloading package omw-1.4 to\n",
      "[nltk_data]     /Users/adyotbose/nltk_data...\n"
     ]
    },
    {
     "name": "stdout",
     "output_type": "stream",
     "text": [
      "Original Text:\n",
      "NLTK is a powerful tool for natural language processing. It provides easy-to-use interfaces to over 50 corpora and lexical resources such as WordNet, along with a suite of text processing libraries for tokenization, parsing, classification, stemming, tagging, and semantic reasoning.\n",
      "\n",
      "Tokenization:\n",
      "['NLTK', 'is', 'a', 'powerful', 'tool', 'for', 'natural', 'language', 'processing', '.', 'It', 'provides', 'easy-to-use', 'interfaces', 'to', 'over', '50', 'corpora', 'and', 'lexical', 'resources', 'such', 'as', 'WordNet', ',', 'along', 'with', 'a', 'suite', 'of', 'text', 'processing', 'libraries', 'for', 'tokenization', ',', 'parsing', ',', 'classification', ',', 'stemming', ',', 'tagging', ',', 'and', 'semantic', 'reasoning', '.']\n",
      "\n",
      "Lemmatization:\n",
      "['NLTK', 'is', 'a', 'powerful', 'tool', 'for', 'natural', 'language', 'processing', '.', 'It', 'provides', 'easy-to-use', 'interface', 'to', 'over', '50', 'corpus', 'and', 'lexical', 'resource', 'such', 'a', 'WordNet', ',', 'along', 'with', 'a', 'suite', 'of', 'text', 'processing', 'library', 'for', 'tokenization', ',', 'parsing', ',', 'classification', ',', 'stemming', ',', 'tagging', ',', 'and', 'semantic', 'reasoning', '.']\n",
      "\n",
      "Stemming:\n",
      "['nltk', 'is', 'a', 'power', 'tool', 'for', 'natur', 'languag', 'process', '.', 'it', 'provid', 'easy-to-us', 'interfac', 'to', 'over', '50', 'corpora', 'and', 'lexic', 'resourc', 'such', 'as', 'wordnet', ',', 'along', 'with', 'a', 'suit', 'of', 'text', 'process', 'librari', 'for', 'token', ',', 'pars', ',', 'classif', ',', 'stem', ',', 'tag', ',', 'and', 'semant', 'reason', '.']\n",
      "\n",
      "Stop Words Removal:\n",
      "['NLTK', 'powerful', 'tool', 'natural', 'language', 'processing', '.', 'provides', 'easy-to-use', 'interfaces', '50', 'corpora', 'lexical', 'resources', 'WordNet', ',', 'along', 'suite', 'text', 'processing', 'libraries', 'tokenization', ',', 'parsing', ',', 'classification', ',', 'stemming', ',', 'tagging', ',', 'semantic', 'reasoning', '.']\n"
     ]
    }
   ],
   "source": [
    "import nltk\n",
    "from nltk.corpus import stopwords\n",
    "from nltk.tokenize import word_tokenize\n",
    "from nltk.stem import PorterStemmer, WordNetLemmatizer\n",
    "\n",
    "# Download NLTK resources\n",
    "nltk.download('punkt')\n",
    "nltk.download('wordnet')\n",
    "nltk.download('stopwords')\n",
    "nltk.download('omw-1.4')\n",
    "\n",
    "# Sample text\n",
    "text = \"NLTK is a powerful tool for natural language processing. It provides easy-to-use interfaces to over 50 corpora and lexical resources such as WordNet, along with a suite of text processing libraries for tokenization, parsing, classification, stemming, tagging, and semantic reasoning.\"\n",
    "\n",
    "# Tokenization\n",
    "tokens = word_tokenize(text)\n",
    "\n",
    "# Lemmatization\n",
    "lemmatizer = WordNetLemmatizer()\n",
    "lemmatized_tokens = [lemmatizer.lemmatize(word) for word in tokens]\n",
    "\n",
    "# Stemming\n",
    "stemmer = PorterStemmer()\n",
    "stemmed_tokens = [stemmer.stem(word) for word in tokens]\n",
    "\n",
    "# Stop words removal\n",
    "stop_words = set(stopwords.words('english'))\n",
    "filtered_tokens = [word for word in tokens if word.lower() not in stop_words]\n",
    "\n",
    "print(\"Original Text:\")\n",
    "print(text)\n",
    "print(\"\\nTokenization:\")\n",
    "print(tokens)\n",
    "print(\"\\nLemmatization:\")\n",
    "print(lemmatized_tokens)\n",
    "print(\"\\nStemming:\")\n",
    "print(stemmed_tokens)\n",
    "print(\"\\nStop Words Removal:\")\n",
    "print(filtered_tokens)"
   ]
  },
  {
   "cell_type": "markdown",
   "id": "7e21fbc7",
   "metadata": {},
   "source": [
    "# Bag of Words"
   ]
  },
  {
   "cell_type": "code",
   "execution_count": 5,
   "id": "95dd5bcb",
   "metadata": {},
   "outputs": [
    {
     "name": "stdout",
     "output_type": "stream",
     "text": [
      "Bag-of-Words Matrix:\n",
      "[[0. 0. 0. ... 0. 0. 0.]\n",
      " [0. 0. 0. ... 0. 0. 0.]\n",
      " [1. 0. 0. ... 0. 0. 0.]\n",
      " ...\n",
      " [0. 0. 1. ... 0. 0. 0.]\n",
      " [0. 0. 0. ... 0. 0. 0.]\n",
      " [0. 0. 0. ... 0. 0. 0.]]\n",
      "\n",
      "Vocabulary:\n",
      "['a', 'along', 'and', 'as', 'classification', 'corpora', 'for', 'interfaces', 'is', 'it', 'language', 'lexical', 'libraries', 'natural', 'nltk', 'of', 'over', 'parsing', 'powerful', 'processing', 'provides', 'reasoning', 'resources', 'semantic', 'stemming', 'such', 'suite', 'tagging', 'text', 'to', 'tokenization', 'tool', 'with', 'wordnet']\n"
     ]
    }
   ],
   "source": [
    "import nltk\n",
    "import re\n",
    "import numpy as np\n",
    "\n",
    "# Sample text\n",
    "text = \"NLTK is a powerful tool for natural language processing. It provides easy-to-use interfaces to over 50 corpora and lexical resources such as WordNet, along with a suite of text processing libraries for tokenization, parsing, classification, stemming, tagging, and semantic reasoning.\"\n",
    "\n",
    "# Tokenize the text into words\n",
    "words = nltk.word_tokenize(text)\n",
    "\n",
    "# Clean the words (remove non-alphanumeric characters and convert to lowercase)\n",
    "words = [word.lower() for word in words if re.match('^[a-zA-Z]+$', word)]\n",
    "\n",
    "# Create a dictionary to store word counts\n",
    "word_counts = {}\n",
    "\n",
    "# Count occurrences of each word\n",
    "for word in words:\n",
    "    if word not in word_counts:\n",
    "        word_counts[word] = 1\n",
    "    else:\n",
    "        word_counts[word] += 1\n",
    "\n",
    "# Get the unique words (vocabulary)\n",
    "vocabulary = sorted(word_counts.keys())\n",
    "\n",
    "# Create a matrix to represent Bag-of-Words\n",
    "bow_matrix = np.zeros((len(words), len(vocabulary)))\n",
    "\n",
    "# Populate the matrix with word counts\n",
    "for i, word in enumerate(words):\n",
    "    for j, vocab_word in enumerate(vocabulary):\n",
    "        if word == vocab_word:\n",
    "            bow_matrix[i, j] += 1\n",
    "\n",
    "print(\"Bag-of-Words Matrix:\")\n",
    "print(bow_matrix)\n",
    "print(\"\\nVocabulary:\")\n",
    "print(vocabulary)"
   ]
  },
  {
   "cell_type": "markdown",
   "id": "0a106e8c",
   "metadata": {},
   "source": [
    "# XOR Gate"
   ]
  },
  {
   "cell_type": "code",
   "execution_count": 6,
   "id": "baeead4d",
   "metadata": {},
   "outputs": [
    {
     "name": "stdout",
     "output_type": "stream",
     "text": [
      "0 XOR 0 = 0\n",
      "0 XOR 1 = 1\n",
      "1 XOR 0 = 1\n",
      "1 XOR 1 = 0\n"
     ]
    }
   ],
   "source": [
    "def xor_gate(x, y):\n",
    "    if x == y:\n",
    "        return 0\n",
    "    else:\n",
    "        return 1\n",
    "\n",
    "# Test cases\n",
    "print(\"0 XOR 0 =\", xor_gate(0, 0))\n",
    "print(\"0 XOR 1 =\", xor_gate(0, 1))\n",
    "print(\"1 XOR 0 =\", xor_gate(1, 0))\n",
    "print(\"1 XOR 1 =\", xor_gate(1, 1))"
   ]
  },
  {
   "cell_type": "markdown",
   "id": "55b5d7bf",
   "metadata": {},
   "source": [
    "# Open-Ended"
   ]
  },
  {
   "cell_type": "code",
   "execution_count": 3,
   "id": "9a66e18f",
   "metadata": {},
   "outputs": [],
   "source": [
    "import numpy as np    \n",
    "import pandas as pd"
   ]
  },
  {
   "cell_type": "code",
   "execution_count": 4,
   "id": "62cd4dbb",
   "metadata": {},
   "outputs": [],
   "source": [
    "# Step 1 Load Data\n",
    "\n",
    "dataset = pd.read_csv('Dataset.csv')\n",
    "X = dataset.iloc[:, :-1].values\n",
    "y = dataset.iloc[:,1:].values"
   ]
  },
  {
   "cell_type": "code",
   "execution_count": 5,
   "id": "bc0312c4",
   "metadata": {},
   "outputs": [
    {
     "data": {
      "text/html": [
       "<div>\n",
       "<style scoped>\n",
       "    .dataframe tbody tr th:only-of-type {\n",
       "        vertical-align: middle;\n",
       "    }\n",
       "\n",
       "    .dataframe tbody tr th {\n",
       "        vertical-align: top;\n",
       "    }\n",
       "\n",
       "    .dataframe thead th {\n",
       "        text-align: right;\n",
       "    }\n",
       "</style>\n",
       "<table border=\"1\" class=\"dataframe\">\n",
       "  <thead>\n",
       "    <tr style=\"text-align: right;\">\n",
       "      <th></th>\n",
       "      <th>YearsExperience</th>\n",
       "      <th>Salary</th>\n",
       "    </tr>\n",
       "  </thead>\n",
       "  <tbody>\n",
       "    <tr>\n",
       "      <th>0</th>\n",
       "      <td>1.1</td>\n",
       "      <td>39343.0</td>\n",
       "    </tr>\n",
       "    <tr>\n",
       "      <th>1</th>\n",
       "      <td>1.3</td>\n",
       "      <td>46205.0</td>\n",
       "    </tr>\n",
       "    <tr>\n",
       "      <th>2</th>\n",
       "      <td>1.5</td>\n",
       "      <td>37731.0</td>\n",
       "    </tr>\n",
       "    <tr>\n",
       "      <th>3</th>\n",
       "      <td>2.0</td>\n",
       "      <td>43525.0</td>\n",
       "    </tr>\n",
       "    <tr>\n",
       "      <th>4</th>\n",
       "      <td>2.2</td>\n",
       "      <td>39891.0</td>\n",
       "    </tr>\n",
       "  </tbody>\n",
       "</table>\n",
       "</div>"
      ],
      "text/plain": [
       "   YearsExperience   Salary\n",
       "0              1.1  39343.0\n",
       "1              1.3  46205.0\n",
       "2              1.5  37731.0\n",
       "3              2.0  43525.0\n",
       "4              2.2  39891.0"
      ]
     },
     "execution_count": 5,
     "metadata": {},
     "output_type": "execute_result"
    }
   ],
   "source": [
    "dataset.head()"
   ]
  },
  {
   "cell_type": "code",
   "execution_count": 6,
   "id": "66154ad0",
   "metadata": {},
   "outputs": [],
   "source": [
    "# Step 2: Split data into training and testing\n",
    "from sklearn.model_selection import train_test_split\n",
    "X_train, X_test, y_train, y_test = train_test_split(X, y, test_size=0.3, random_state=0)"
   ]
  },
  {
   "cell_type": "code",
   "execution_count": 7,
   "id": "46797429",
   "metadata": {},
   "outputs": [
    {
     "name": "stdout",
     "output_type": "stream",
     "text": [
      "    YearsExperience    Salary\n",
      "0               1.1   39343.0\n",
      "1               1.3   46205.0\n",
      "2               1.5   37731.0\n",
      "3               2.0   43525.0\n",
      "4               2.2   39891.0\n",
      "5               2.9   56642.0\n",
      "6               3.0   60150.0\n",
      "7               3.2   54445.0\n",
      "8               3.2   64445.0\n",
      "9               3.7   57189.0\n",
      "10              3.9   63218.0\n",
      "11              4.0   55794.0\n",
      "12              4.0   56957.0\n",
      "13              4.1   57081.0\n",
      "14              4.5   61111.0\n",
      "15              4.9   67938.0\n",
      "16              5.1   66029.0\n",
      "17              5.3   83088.0\n",
      "18              5.9   81363.0\n",
      "19              6.0   93940.0\n",
      "20              6.8   91738.0\n",
      "21              7.1   98273.0\n",
      "22              7.9  101302.0\n",
      "23              8.2  113812.0\n",
      "24              8.7  109431.0\n",
      "25              9.0  105582.0\n",
      "26              9.5  116969.0\n",
      "27              9.6  112635.0\n",
      "28             10.3  122391.0\n",
      "29             10.5  121872.0\n"
     ]
    }
   ],
   "source": [
    "print(dataset)"
   ]
  },
  {
   "cell_type": "code",
   "execution_count": 8,
   "id": "738f8844",
   "metadata": {},
   "outputs": [
    {
     "data": {
      "text/html": [
       "<style>#sk-container-id-1 {color: black;background-color: white;}#sk-container-id-1 pre{padding: 0;}#sk-container-id-1 div.sk-toggleable {background-color: white;}#sk-container-id-1 label.sk-toggleable__label {cursor: pointer;display: block;width: 100%;margin-bottom: 0;padding: 0.3em;box-sizing: border-box;text-align: center;}#sk-container-id-1 label.sk-toggleable__label-arrow:before {content: \"▸\";float: left;margin-right: 0.25em;color: #696969;}#sk-container-id-1 label.sk-toggleable__label-arrow:hover:before {color: black;}#sk-container-id-1 div.sk-estimator:hover label.sk-toggleable__label-arrow:before {color: black;}#sk-container-id-1 div.sk-toggleable__content {max-height: 0;max-width: 0;overflow: hidden;text-align: left;background-color: #f0f8ff;}#sk-container-id-1 div.sk-toggleable__content pre {margin: 0.2em;color: black;border-radius: 0.25em;background-color: #f0f8ff;}#sk-container-id-1 input.sk-toggleable__control:checked~div.sk-toggleable__content {max-height: 200px;max-width: 100%;overflow: auto;}#sk-container-id-1 input.sk-toggleable__control:checked~label.sk-toggleable__label-arrow:before {content: \"▾\";}#sk-container-id-1 div.sk-estimator input.sk-toggleable__control:checked~label.sk-toggleable__label {background-color: #d4ebff;}#sk-container-id-1 div.sk-label input.sk-toggleable__control:checked~label.sk-toggleable__label {background-color: #d4ebff;}#sk-container-id-1 input.sk-hidden--visually {border: 0;clip: rect(1px 1px 1px 1px);clip: rect(1px, 1px, 1px, 1px);height: 1px;margin: -1px;overflow: hidden;padding: 0;position: absolute;width: 1px;}#sk-container-id-1 div.sk-estimator {font-family: monospace;background-color: #f0f8ff;border: 1px dotted black;border-radius: 0.25em;box-sizing: border-box;margin-bottom: 0.5em;}#sk-container-id-1 div.sk-estimator:hover {background-color: #d4ebff;}#sk-container-id-1 div.sk-parallel-item::after {content: \"\";width: 100%;border-bottom: 1px solid gray;flex-grow: 1;}#sk-container-id-1 div.sk-label:hover label.sk-toggleable__label {background-color: #d4ebff;}#sk-container-id-1 div.sk-serial::before {content: \"\";position: absolute;border-left: 1px solid gray;box-sizing: border-box;top: 0;bottom: 0;left: 50%;z-index: 0;}#sk-container-id-1 div.sk-serial {display: flex;flex-direction: column;align-items: center;background-color: white;padding-right: 0.2em;padding-left: 0.2em;position: relative;}#sk-container-id-1 div.sk-item {position: relative;z-index: 1;}#sk-container-id-1 div.sk-parallel {display: flex;align-items: stretch;justify-content: center;background-color: white;position: relative;}#sk-container-id-1 div.sk-item::before, #sk-container-id-1 div.sk-parallel-item::before {content: \"\";position: absolute;border-left: 1px solid gray;box-sizing: border-box;top: 0;bottom: 0;left: 50%;z-index: -1;}#sk-container-id-1 div.sk-parallel-item {display: flex;flex-direction: column;z-index: 1;position: relative;background-color: white;}#sk-container-id-1 div.sk-parallel-item:first-child::after {align-self: flex-end;width: 50%;}#sk-container-id-1 div.sk-parallel-item:last-child::after {align-self: flex-start;width: 50%;}#sk-container-id-1 div.sk-parallel-item:only-child::after {width: 0;}#sk-container-id-1 div.sk-dashed-wrapped {border: 1px dashed gray;margin: 0 0.4em 0.5em 0.4em;box-sizing: border-box;padding-bottom: 0.4em;background-color: white;}#sk-container-id-1 div.sk-label label {font-family: monospace;font-weight: bold;display: inline-block;line-height: 1.2em;}#sk-container-id-1 div.sk-label-container {text-align: center;}#sk-container-id-1 div.sk-container {/* jupyter's `normalize.less` sets `[hidden] { display: none; }` but bootstrap.min.css set `[hidden] { display: none !important; }` so we also need the `!important` here to be able to override the default hidden behavior on the sphinx rendered scikit-learn.org. See: https://github.com/scikit-learn/scikit-learn/issues/21755 */display: inline-block !important;position: relative;}#sk-container-id-1 div.sk-text-repr-fallback {display: none;}</style><div id=\"sk-container-id-1\" class=\"sk-top-container\"><div class=\"sk-text-repr-fallback\"><pre>LinearRegression()</pre><b>In a Jupyter environment, please rerun this cell to show the HTML representation or trust the notebook. <br />On GitHub, the HTML representation is unable to render, please try loading this page with nbviewer.org.</b></div><div class=\"sk-container\" hidden><div class=\"sk-item\"><div class=\"sk-estimator sk-toggleable\"><input class=\"sk-toggleable__control sk-hidden--visually\" id=\"sk-estimator-id-1\" type=\"checkbox\" checked><label for=\"sk-estimator-id-1\" class=\"sk-toggleable__label sk-toggleable__label-arrow\">LinearRegression</label><div class=\"sk-toggleable__content\"><pre>LinearRegression()</pre></div></div></div></div></div>"
      ],
      "text/plain": [
       "LinearRegression()"
      ]
     },
     "execution_count": 8,
     "metadata": {},
     "output_type": "execute_result"
    }
   ],
   "source": [
    "# Step 3: Fit Simple Linear Regression to Training Data\n",
    "from sklearn.linear_model import LinearRegression\n",
    "regressor = LinearRegression()\n",
    "regressor.fit(X_train, y_train)"
   ]
  },
  {
   "cell_type": "code",
   "execution_count": 9,
   "id": "64a26c65",
   "metadata": {},
   "outputs": [
    {
     "data": {
      "text/plain": [
       "0.9740993407213511"
      ]
     },
     "execution_count": 9,
     "metadata": {},
     "output_type": "execute_result"
    }
   ],
   "source": [
    "# Step 4: Make Prediction\n",
    "y_pred = regressor.predict(X_test)\n",
    "regressor.score(X_test,y_test)"
   ]
  },
  {
   "cell_type": "code",
   "execution_count": 10,
   "id": "cdd0e582",
   "metadata": {},
   "outputs": [
    {
     "data": {
      "image/png": "[encoded data removed]",
      "text/plain": [
       "<Figure size 640x480 with 1 Axes>"
      ]
     },
     "metadata": {},
     "output_type": "display_data"
    }
   ],
   "source": [
    "# Step 5 - Visualize training set results\n",
    "import matplotlib.pyplot as plt\n",
    "\n",
    "# plot the actual data points of training set\n",
    "plt.scatter(X_train, y_train, color = 'red')\n",
    "# plot the regression line\n",
    "plt.plot(X_train, regressor.predict(X_train), color='blue')\n",
    "plt.title('Salary vs Experience (Training set)')\n",
    "plt.xlabel('Years of Experience')\n",
    "plt.ylabel('Salary')\n",
    "plt.show()"
   ]
  },
  {
   "cell_type": "code",
   "execution_count": 27,
   "id": "2f6b9220",
   "metadata": {},
   "outputs": [
    {
     "data": {
      "image/png": "[encoded data removed]",
      "text/plain": [
       "<Figure size 640x480 with 1 Axes>"
      ]
     },
     "metadata": {},
     "output_type": "display_data"
    }
   ],
   "source": [
    "# Step 6 - Visualize test set results\n",
    "import matplotlib.pyplot as plt\n",
    "# plot the actual data points of test set\n",
    "plt.scatter(X_test, y_test, color = 'red')\n",
    "# plot the regression line (same as above)\n",
    "plt.plot(X_test, regressor.predict(X_test), color='blue')\n",
    "plt.title('Salary vs Experience (Test set)')\n",
    "plt.xlabel('Years of Experience')\n",
    "plt.ylabel('Salary')\n",
    "plt.show()"
   ]
  },
  {
   "cell_type": "code",
   "execution_count": 19,
   "id": "97e26c76",
   "metadata": {},
   "outputs": [
    {
     "name": "stdout",
     "output_type": "stream",
     "text": [
      "The predicted salary of a person with 15 years experience is  [[260783.92349604]]\n"
     ]
    }
   ],
   "source": [
    "# Step 7 - Make new prediction\n",
    "new_salary_pred = regressor.predict([[25]])\n",
    "print('The predicted salary of a person with 15 years experience is ',new_salary_pred)"
   ]
  },
  {
   "cell_type": "code",
   "execution_count": 21,
   "id": "bba40308",
   "metadata": {},
   "outputs": [
    {
     "data": {
      "text/plain": [
       "0.9740993407213511"
      ]
     },
     "execution_count": 21,
     "metadata": {},
     "output_type": "execute_result"
    }
   ],
   "source": [
    "regressor.score(X_test,y_test)"
   ]
  },
  {
   "cell_type": "code",
   "execution_count": null,
   "id": "13dbf50e",
   "metadata": {},
   "outputs": [],
   "source": []
  },
  {
   "cell_type": "code",
   "execution_count": null,
   "id": "e4e8260e",
   "metadata": {},
   "outputs": [],
   "source": []
  }
 ],
 "metadata": {
  "kernelspec": {
   "display_name": "Python 3 (ipykernel)",
   "language": "python",
   "name": "python3"
  },
  "language_info": {
   "codemirror_mode": {
    "name": "ipython",
    "version": 3
   },
   "file_extension": ".py",
   "mimetype": "text/x-python",
   "name": "python",
   "nbconvert_exporter": "python",
   "pygments_lexer": "ipython3",
   "version": "3.10.9"
  }
 },
 "nbformat": 4,
 "nbformat_minor": 5
}
